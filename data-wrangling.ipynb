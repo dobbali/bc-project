{
 "cells": [
  {
   "cell_type": "code",
   "execution_count": 1,
   "metadata": {
    "slideshow": {
     "slide_type": "skip"
    }
   },
   "outputs": [],
   "source": [
    "from IPython.display import Image\n",
    "from IPython.core.display import HTML \n",
    "import plotly.plotly as py\n",
    "import plotly.graph_objs as go"
   ]
  },
  {
   "cell_type": "markdown",
   "metadata": {
    "slideshow": {
     "slide_type": "slide"
    }
   },
   "source": [
    "## Intro"
   ]
  },
  {
   "cell_type": "code",
   "execution_count": 2,
   "metadata": {
    "slideshow": {
     "slide_type": "fragment"
    }
   },
   "outputs": [
    {
     "data": {
      "text/html": [
       "<img src=\"http://cdn2.hubspot.net/hubfs/513976/Blog_Featured_Images/Drowning-in-Data.jpg\"/>"
      ],
      "text/plain": [
       "<IPython.core.display.Image object>"
      ]
     },
     "execution_count": 2,
     "metadata": {},
     "output_type": "execute_result"
    }
   ],
   "source": [
    "Image(url = \"http://cdn2.hubspot.net/hubfs/513976/Blog_Featured_Images/Drowning-in-Data.jpg\")"
   ]
  },
  {
   "cell_type": "code",
   "execution_count": 3,
   "metadata": {
    "slideshow": {
     "slide_type": "slide"
    }
   },
   "outputs": [
    {
     "data": {
      "text/html": [
       "<img src=\"https://i.pinimg.com/originals/53/04/50/530450a146551ec2e8a4a2e7c1104c1d.jpg\"/>"
      ],
      "text/plain": [
       "<IPython.core.display.Image object>"
      ]
     },
     "execution_count": 3,
     "metadata": {},
     "output_type": "execute_result"
    }
   ],
   "source": [
    "\n",
    "Image(url= \"https://i.pinimg.com/originals/53/04/50/530450a146551ec2e8a4a2e7c1104c1d.jpg\")"
   ]
  },
  {
   "cell_type": "markdown",
   "metadata": {
    "slideshow": {
     "slide_type": "slide"
    }
   },
   "source": [
    "# Question - 1,  2 \n",
    "\n",
    "1. Customers often visit us in multiple ways (both through our website and via calls and emails with our gearhead sales team) prior to purchase. Considering this customer journey, how would you recommend <strong>attributing</strong> sales among the various channels? \n",
    "\n",
    "2. What method/s did you use for your <strong>attribution</strong> calculations?\n"
   ]
  },
  {
   "cell_type": "markdown",
   "metadata": {
    "extensions": {
     "jupyter_dashboards": {
      "version": 1,
      "views": {
       "grid_default": {
        "col": 0,
        "height": 4,
        "hidden": false,
        "row": 0,
        "width": 4
       },
       "report_default": {}
      }
     }
    },
    "slideshow": {
     "slide_type": "skip"
    }
   },
   "source": [
    "###  Part 1 : "
   ]
  },
  {
   "cell_type": "markdown",
   "metadata": {
    "slideshow": {
     "slide_type": "skip"
    }
   },
   "source": [
    "### Obtaining the data "
   ]
  },
  {
   "cell_type": "code",
   "execution_count": 4,
   "metadata": {
    "extensions": {
     "jupyter_dashboards": {
      "version": 1,
      "views": {
       "grid_default": {
        "hidden": true
       },
       "report_default": {}
      }
     }
    },
    "slideshow": {
     "slide_type": "skip"
    }
   },
   "outputs": [],
   "source": [
    "## import necessary libraries\n",
    "\n",
    "\n",
    "import pandas as pd\n",
    "import matplotlib.pyplot as plt\n",
    "import matplotlib.patches as mpatches\n",
    "from itertools import groupby\n",
    "import numpy as np\n",
    "import seaborn as sns\n",
    "\n",
    "%matplotlib inline"
   ]
  },
  {
   "cell_type": "markdown",
   "metadata": {
    "extensions": {
     "jupyter_dashboards": {
      "version": 1,
      "views": {
       "grid_default": {
        "col": 7,
        "height": 12,
        "hidden": false,
        "row": 0,
        "width": 4
       },
       "report_default": {}
      }
     }
    },
    "slideshow": {
     "slide_type": "slide"
    }
   },
   "source": [
    "### Meta Data\n",
    "\n",
    "- ghx_<strong>Sales</strong> - sales data 30 days - order level with timestamp / last channel\n",
    "- ghx_<strong>connections</strong> - connection data current connections with start time.  Showing when customer became connected to a gearhead expert.\n",
    "- ghx_<strong>visits</strong> - Site visit data for 75 days - shows visit data with timestamp, customer number and channel from which they visited\n",
    "- ghx_<strong>contacts</strong> - contact data - phone and email from gearheads to and from customers\n",
    "- ghx_<strong>customerprofile</strong> - Customer data include customer zip, city, state, customer tenure"
   ]
  },
  {
   "cell_type": "code",
   "execution_count": 9,
   "metadata": {
    "extensions": {
     "jupyter_dashboards": {
      "version": 1,
      "views": {
       "grid_default": {
        "hidden": true
       },
       "report_default": {
        "hidden": true
       }
      }
     }
    },
    "scrolled": true,
    "slideshow": {
     "slide_type": "skip"
    }
   },
   "outputs": [],
   "source": [
    "## Read all the available data\n",
    "\n",
    "\n",
    "customer_profile = pd.read_csv(\"data/ghx_CustomerProfile.csv\", encoding=\"ISO-8859-1\")\n",
    "customer_connections = pd.read_csv(\"data/ghx_CustomerConnections.csv\",encoding=\"ISO-8859-1\")\n",
    "sales = pd.read_csv(\"data/ghx_Sales.csv\",encoding=\"ISO-8859-1\")\n",
    "visits = pd.read_csv(\"data/ghx_visits.csv\",encoding=\"ISO-8859-1\")\n",
    "contacts = pd.read_csv(\"data/ghx_Contacts.csv\",encoding=\"ISO-8859-1\")"
   ]
  },
  {
   "cell_type": "code",
   "execution_count": 10,
   "metadata": {},
   "outputs": [
    {
     "data": {
      "text/html": [
       "<div>\n",
       "<style scoped>\n",
       "    .dataframe tbody tr th:only-of-type {\n",
       "        vertical-align: middle;\n",
       "    }\n",
       "\n",
       "    .dataframe tbody tr th {\n",
       "        vertical-align: top;\n",
       "    }\n",
       "\n",
       "    .dataframe thead th {\n",
       "        text-align: right;\n",
       "    }\n",
       "</style>\n",
       "<table border=\"1\" class=\"dataframe\">\n",
       "  <thead>\n",
       "    <tr style=\"text-align: right;\">\n",
       "      <th></th>\n",
       "      <th>CUSTOMER_ID</th>\n",
       "      <th>ORDER_SOURCE_CATEGORY</th>\n",
       "      <th>ORDER_DATE</th>\n",
       "      <th>STATUS</th>\n",
       "      <th>ORDER_NUMBER</th>\n",
       "      <th>SALES</th>\n",
       "      <th>QTY</th>\n",
       "    </tr>\n",
       "  </thead>\n",
       "  <tbody>\n",
       "    <tr>\n",
       "      <th>0</th>\n",
       "      <td>2072720</td>\n",
       "      <td>Website</td>\n",
       "      <td>09/04/2017 11:57:47 AM</td>\n",
       "      <td>shipped</td>\n",
       "      <td>b2680597971</td>\n",
       "      <td>291.71</td>\n",
       "      <td>1</td>\n",
       "    </tr>\n",
       "    <tr>\n",
       "      <th>1</th>\n",
       "      <td>108692750</td>\n",
       "      <td>Website</td>\n",
       "      <td>09/21/2017 09:48:42 PM</td>\n",
       "      <td>shipped</td>\n",
       "      <td>b2687905745</td>\n",
       "      <td>224.95</td>\n",
       "      <td>1</td>\n",
       "    </tr>\n",
       "    <tr>\n",
       "      <th>2</th>\n",
       "      <td>109029940</td>\n",
       "      <td>Website</td>\n",
       "      <td>09/20/2017 09:41:48 AM</td>\n",
       "      <td>shipped</td>\n",
       "      <td>b2654154330</td>\n",
       "      <td>360.00</td>\n",
       "      <td>2</td>\n",
       "    </tr>\n",
       "    <tr>\n",
       "      <th>3</th>\n",
       "      <td>3781555</td>\n",
       "      <td>Website</td>\n",
       "      <td>09/22/2017 10:30:43 AM</td>\n",
       "      <td>shipped</td>\n",
       "      <td>b2153222116</td>\n",
       "      <td>530.00</td>\n",
       "      <td>4</td>\n",
       "    </tr>\n",
       "    <tr>\n",
       "      <th>4</th>\n",
       "      <td>912502020</td>\n",
       "      <td>Website</td>\n",
       "      <td>09/13/2017 03:39:28 PM</td>\n",
       "      <td>shipped</td>\n",
       "      <td>b2684490086</td>\n",
       "      <td>140.00</td>\n",
       "      <td>1</td>\n",
       "    </tr>\n",
       "  </tbody>\n",
       "</table>\n",
       "</div>"
      ],
      "text/plain": [
       "   CUSTOMER_ID ORDER_SOURCE_CATEGORY              ORDER_DATE   STATUS  \\\n",
       "0      2072720               Website  09/04/2017 11:57:47 AM  shipped   \n",
       "1    108692750               Website  09/21/2017 09:48:42 PM  shipped   \n",
       "2    109029940               Website  09/20/2017 09:41:48 AM  shipped   \n",
       "3      3781555               Website  09/22/2017 10:30:43 AM  shipped   \n",
       "4    912502020               Website  09/13/2017 03:39:28 PM  shipped   \n",
       "\n",
       "  ORDER_NUMBER   SALES  QTY  \n",
       "0  b2680597971  291.71    1  \n",
       "1  b2687905745  224.95    1  \n",
       "2  b2654154330  360.00    2  \n",
       "3  b2153222116  530.00    4  \n",
       "4  b2684490086  140.00    1  "
      ]
     },
     "execution_count": 10,
     "metadata": {},
     "output_type": "execute_result"
    }
   ],
   "source": [
    "sales.head()"
   ]
  },
  {
   "cell_type": "code",
   "execution_count": 11,
   "metadata": {},
   "outputs": [
    {
     "data": {
      "text/html": [
       "<div>\n",
       "<style scoped>\n",
       "    .dataframe tbody tr th:only-of-type {\n",
       "        vertical-align: middle;\n",
       "    }\n",
       "\n",
       "    .dataframe tbody tr th {\n",
       "        vertical-align: top;\n",
       "    }\n",
       "\n",
       "    .dataframe thead th {\n",
       "        text-align: right;\n",
       "    }\n",
       "</style>\n",
       "<table border=\"1\" class=\"dataframe\">\n",
       "  <thead>\n",
       "    <tr style=\"text-align: right;\">\n",
       "      <th></th>\n",
       "      <th>WEBSITE_NM</th>\n",
       "      <th>CHANNEL_NAME</th>\n",
       "      <th>VISIT_END_DATE_DT</th>\n",
       "      <th>USER_ID</th>\n",
       "      <th>VISITOR_ID</th>\n",
       "    </tr>\n",
       "  </thead>\n",
       "  <tbody>\n",
       "    <tr>\n",
       "      <th>0</th>\n",
       "      <td>Backcountry</td>\n",
       "      <td>Organic</td>\n",
       "      <td>08/02/2017 09:28:05 AM</td>\n",
       "      <td>106123308</td>\n",
       "      <td>30286230817960885204611687142098244773</td>\n",
       "    </tr>\n",
       "    <tr>\n",
       "      <th>1</th>\n",
       "      <td>Backcountry</td>\n",
       "      <td>PLA</td>\n",
       "      <td>08/03/2017 12:14:58 PM</td>\n",
       "      <td>106123308</td>\n",
       "      <td>31524714294527304834611692665426355009</td>\n",
       "    </tr>\n",
       "    <tr>\n",
       "      <th>2</th>\n",
       "      <td>Backcountry</td>\n",
       "      <td>Affiliate</td>\n",
       "      <td>08/05/2017 09:15:52 AM</td>\n",
       "      <td>106123308</td>\n",
       "      <td>31524714294527304834611692665426355009</td>\n",
       "    </tr>\n",
       "    <tr>\n",
       "      <th>3</th>\n",
       "      <td>Backcountry</td>\n",
       "      <td>PLA</td>\n",
       "      <td>08/05/2017 12:00:00 AM</td>\n",
       "      <td>106123308</td>\n",
       "      <td>31524714294527304834611692665426355009</td>\n",
       "    </tr>\n",
       "    <tr>\n",
       "      <th>4</th>\n",
       "      <td>Backcountry</td>\n",
       "      <td>Organic</td>\n",
       "      <td>08/08/2017 07:37:39 AM</td>\n",
       "      <td>106123308</td>\n",
       "      <td>30286230817960885204611687142098244773</td>\n",
       "    </tr>\n",
       "  </tbody>\n",
       "</table>\n",
       "</div>"
      ],
      "text/plain": [
       "    WEBSITE_NM CHANNEL_NAME       VISIT_END_DATE_DT    USER_ID  \\\n",
       "0  Backcountry      Organic  08/02/2017 09:28:05 AM  106123308   \n",
       "1  Backcountry          PLA  08/03/2017 12:14:58 PM  106123308   \n",
       "2  Backcountry    Affiliate  08/05/2017 09:15:52 AM  106123308   \n",
       "3  Backcountry          PLA  08/05/2017 12:00:00 AM  106123308   \n",
       "4  Backcountry      Organic  08/08/2017 07:37:39 AM  106123308   \n",
       "\n",
       "                               VISITOR_ID  \n",
       "0  30286230817960885204611687142098244773  \n",
       "1  31524714294527304834611692665426355009  \n",
       "2  31524714294527304834611692665426355009  \n",
       "3  31524714294527304834611692665426355009  \n",
       "4  30286230817960885204611687142098244773  "
      ]
     },
     "execution_count": 11,
     "metadata": {},
     "output_type": "execute_result"
    }
   ],
   "source": [
    "visits.head()"
   ]
  },
  {
   "cell_type": "markdown",
   "metadata": {
    "slideshow": {
     "slide_type": "skip"
    }
   },
   "source": [
    "### Part 2 : "
   ]
  },
  {
   "cell_type": "markdown",
   "metadata": {
    "extensions": {
     "jupyter_dashboards": {
      "version": 1,
      "views": {
       "grid_default": {
        "hidden": true
       },
       "report_default": {}
      }
     }
    },
    "slideshow": {
     "slide_type": "slide"
    }
   },
   "source": [
    "### Scrubbing the Data\n",
    "\n",
    "\n",
    "1. Removing duplicate records from Visits data\n",
    "2. Generating dataset by number of visits made by visitor before each purchase  "
   ]
  },
  {
   "cell_type": "markdown",
   "metadata": {
    "extensions": {
     "jupyter_dashboards": {
      "version": 1,
      "views": {
       "grid_default": {
        "col": 4,
        "height": 4,
        "hidden": false,
        "row": 12,
        "width": 4
       },
       "report_default": {}
      }
     }
    },
    "slideshow": {
     "slide_type": "skip"
    }
   },
   "source": [
    "<strong>2.1 Fixing column values"
   ]
  },
  {
   "cell_type": "code",
   "execution_count": 6,
   "metadata": {
    "extensions": {
     "jupyter_dashboards": {
      "version": 1,
      "views": {
       "grid_default": {
        "col": 8,
        "height": 13,
        "hidden": false,
        "row": 12,
        "width": 4
       },
       "report_default": {}
      }
     }
    },
    "scrolled": false,
    "slideshow": {
     "slide_type": "skip"
    }
   },
   "outputs": [
    {
     "data": {
      "text/plain": [
       "{'Affiliate',\n",
       " 'App',\n",
       " 'Branded Paid Search',\n",
       " 'Direct',\n",
       " 'Display Media',\n",
       " 'Domain',\n",
       " 'Domains',\n",
       " 'Email',\n",
       " 'General Referring Domains',\n",
       " 'Non-Branded Paid Search',\n",
       " 'Not Classified',\n",
       " 'ODAT Ads',\n",
       " 'Organic',\n",
       " 'Other',\n",
       " 'PLA',\n",
       " 'Prospecting',\n",
       " 'Shopping Search',\n",
       " 'Social Media',\n",
       " 'Vendor Links',\n",
       " 'Video',\n",
       " 'odaT Ads'}"
      ]
     },
     "execution_count": 6,
     "metadata": {},
     "output_type": "execute_result"
    }
   ],
   "source": [
    "## Exploring available channels\n",
    "\n",
    "\n",
    "set(visits[\"CHANNEL_NAME\"])"
   ]
  },
  {
   "cell_type": "code",
   "execution_count": 7,
   "metadata": {
    "extensions": {
     "jupyter_dashboards": {
      "version": 1,
      "views": {
       "grid_default": {
        "hidden": true
       },
       "report_default": {}
      }
     }
    },
    "slideshow": {
     "slide_type": "skip"
    }
   },
   "outputs": [],
   "source": [
    "## cleaning channel names\n",
    "\n",
    "\n",
    "# This action is performed because while creating markov model in R, \n",
    "# there are issues with spaces in the channel names \n",
    "\n",
    "def clean_channel_name(row):\n",
    "    return row.lower().replace(\" \",\"-\")\n",
    "\n",
    "visits[\"CHANNEL_NAME\"] = visits[\"CHANNEL_NAME\"].apply(clean_channel_name)"
   ]
  },
  {
   "cell_type": "markdown",
   "metadata": {
    "extensions": {
     "jupyter_dashboards": {
      "version": 1,
      "views": {
       "grid_default": {
        "col": 8,
        "height": 4,
        "hidden": false,
        "row": 25,
        "width": 4
       },
       "report_default": {}
      }
     }
    },
    "slideshow": {
     "slide_type": "skip"
    }
   },
   "source": [
    "<strong>2.2 Checking and removing duplicate records"
   ]
  },
  {
   "cell_type": "code",
   "execution_count": 8,
   "metadata": {
    "extensions": {
     "jupyter_dashboards": {
      "version": 1,
      "views": {
       "grid_default": {
        "hidden": true
       },
       "report_default": {}
      }
     }
    },
    "scrolled": true,
    "slideshow": {
     "slide_type": "slide"
    }
   },
   "outputs": [
    {
     "data": {
      "text/html": [
       "<div>\n",
       "<style scoped>\n",
       "    .dataframe tbody tr th:only-of-type {\n",
       "        vertical-align: middle;\n",
       "    }\n",
       "\n",
       "    .dataframe tbody tr th {\n",
       "        vertical-align: top;\n",
       "    }\n",
       "\n",
       "    .dataframe thead th {\n",
       "        text-align: right;\n",
       "    }\n",
       "</style>\n",
       "<table border=\"1\" class=\"dataframe\">\n",
       "  <thead>\n",
       "    <tr style=\"text-align: right;\">\n",
       "      <th></th>\n",
       "      <th>WEBSITE_NM</th>\n",
       "      <th>CHANNEL_NAME</th>\n",
       "      <th>VISIT_END_DATE_DT</th>\n",
       "      <th>USER_ID</th>\n",
       "      <th>VISITOR_ID</th>\n",
       "      <th>count</th>\n",
       "    </tr>\n",
       "  </thead>\n",
       "  <tbody>\n",
       "    <tr>\n",
       "      <th>532280</th>\n",
       "      <td>Backcountry</td>\n",
       "      <td>domains</td>\n",
       "      <td>08/05/2017 03:19:06 AM</td>\n",
       "      <td>727053495</td>\n",
       "      <td>32252818131446216736917548398480461860</td>\n",
       "      <td>408</td>\n",
       "    </tr>\n",
       "    <tr>\n",
       "      <th>738443</th>\n",
       "      <td>Backcountry</td>\n",
       "      <td>email</td>\n",
       "      <td>10/04/2017 01:55:51 AM</td>\n",
       "      <td>110184483</td>\n",
       "      <td>32327586038826311856917548279295117457</td>\n",
       "      <td>277</td>\n",
       "    </tr>\n",
       "    <tr>\n",
       "      <th>258388</th>\n",
       "      <td>Backcountry</td>\n",
       "      <td>direct</td>\n",
       "      <td>09/03/2017 12:36:08 AM</td>\n",
       "      <td>3957038</td>\n",
       "      <td>32306942042295063694611705383361184505</td>\n",
       "      <td>263</td>\n",
       "    </tr>\n",
       "    <tr>\n",
       "      <th>1108539</th>\n",
       "      <td>Backcountry</td>\n",
       "      <td>pla</td>\n",
       "      <td>09/03/2017 03:21:29 AM</td>\n",
       "      <td>110029394</td>\n",
       "      <td>31563568737629638134611687152835625403</td>\n",
       "      <td>230</td>\n",
       "    </tr>\n",
       "    <tr>\n",
       "      <th>351582</th>\n",
       "      <td>Backcountry</td>\n",
       "      <td>direct</td>\n",
       "      <td>10/04/2017 11:51:38 PM</td>\n",
       "      <td>108081322</td>\n",
       "      <td>32366220558144294856917548306675538715</td>\n",
       "      <td>230</td>\n",
       "    </tr>\n",
       "    <tr>\n",
       "      <th>532218</th>\n",
       "      <td>Backcountry</td>\n",
       "      <td>domains</td>\n",
       "      <td>08/04/2017 08:26:53 PM</td>\n",
       "      <td>727053495</td>\n",
       "      <td>32252818131446216736917548398480461860</td>\n",
       "      <td>220</td>\n",
       "    </tr>\n",
       "    <tr>\n",
       "      <th>531810</th>\n",
       "      <td>Backcountry</td>\n",
       "      <td>display-media</td>\n",
       "      <td>10/14/2017 12:16:22 PM</td>\n",
       "      <td>1980267</td>\n",
       "      <td>32249280044762034424611705383361190497</td>\n",
       "      <td>207</td>\n",
       "    </tr>\n",
       "    <tr>\n",
       "      <th>116673</th>\n",
       "      <td>Backcountry</td>\n",
       "      <td>branded-paid-search</td>\n",
       "      <td>08/23/2017 02:46:08 PM</td>\n",
       "      <td>110012893</td>\n",
       "      <td>32287669042274230684611705296388109596</td>\n",
       "      <td>204</td>\n",
       "    </tr>\n",
       "    <tr>\n",
       "      <th>152077</th>\n",
       "      <td>Backcountry</td>\n",
       "      <td>direct</td>\n",
       "      <td>08/04/2017 12:48:12 PM</td>\n",
       "      <td>1327158996</td>\n",
       "      <td>32248378659975471816917548398480461432</td>\n",
       "      <td>202</td>\n",
       "    </tr>\n",
       "    <tr>\n",
       "      <th>532263</th>\n",
       "      <td>Backcountry</td>\n",
       "      <td>domains</td>\n",
       "      <td>08/04/2017 10:07:09 PM</td>\n",
       "      <td>727053495</td>\n",
       "      <td>32252818131446216736917548398480461860</td>\n",
       "      <td>187</td>\n",
       "    </tr>\n",
       "  </tbody>\n",
       "</table>\n",
       "</div>"
      ],
      "text/plain": [
       "          WEBSITE_NM         CHANNEL_NAME       VISIT_END_DATE_DT     USER_ID  \\\n",
       "532280   Backcountry              domains  08/05/2017 03:19:06 AM   727053495   \n",
       "738443   Backcountry                email  10/04/2017 01:55:51 AM   110184483   \n",
       "258388   Backcountry               direct  09/03/2017 12:36:08 AM     3957038   \n",
       "1108539  Backcountry                  pla  09/03/2017 03:21:29 AM   110029394   \n",
       "351582   Backcountry               direct  10/04/2017 11:51:38 PM   108081322   \n",
       "532218   Backcountry              domains  08/04/2017 08:26:53 PM   727053495   \n",
       "531810   Backcountry        display-media  10/14/2017 12:16:22 PM     1980267   \n",
       "116673   Backcountry  branded-paid-search  08/23/2017 02:46:08 PM   110012893   \n",
       "152077   Backcountry               direct  08/04/2017 12:48:12 PM  1327158996   \n",
       "532263   Backcountry              domains  08/04/2017 10:07:09 PM   727053495   \n",
       "\n",
       "                                     VISITOR_ID  count  \n",
       "532280   32252818131446216736917548398480461860    408  \n",
       "738443   32327586038826311856917548279295117457    277  \n",
       "258388   32306942042295063694611705383361184505    263  \n",
       "1108539  31563568737629638134611687152835625403    230  \n",
       "351582   32366220558144294856917548306675538715    230  \n",
       "532218   32252818131446216736917548398480461860    220  \n",
       "531810   32249280044762034424611705383361190497    207  \n",
       "116673   32287669042274230684611705296388109596    204  \n",
       "152077   32248378659975471816917548398480461432    202  \n",
       "532263   32252818131446216736917548398480461860    187  "
      ]
     },
     "execution_count": 8,
     "metadata": {},
     "output_type": "execute_result"
    }
   ],
   "source": [
    "## grouping it by all the columns to get size of duplicate records in visits table\n",
    "\n",
    "\n",
    "duplicate_visits_count = visits.groupby([\"WEBSITE_NM\",\"CHANNEL_NAME\",\"VISIT_END_DATE_DT\",\n",
    "                                         \"USER_ID\",\"VISITOR_ID\"]).size().reset_index(name = \"count\")\n",
    "\n",
    "## sorting by freq of duplicates \n",
    "\n",
    "\n",
    "duplicate_visits_count.sort_values(by = \"count\", ascending= False).head(10)"
   ]
  },
  {
   "cell_type": "code",
   "execution_count": 14,
   "metadata": {
    "extensions": {
     "jupyter_dashboards": {
      "version": 1,
      "views": {
       "grid_default": {
        "hidden": true
       },
       "report_default": {}
      }
     }
    },
    "scrolled": true,
    "slideshow": {
     "slide_type": "slide"
    }
   },
   "outputs": [
    {
     "name": "stdout",
     "output_type": "stream",
     "text": [
      "Number of actually rows : 3492947 \n",
      "Number of unique rows : 1210049 \n",
      "Number of Columns:  5 \n",
      "Columns: ['WEBSITE_NM', 'CHANNEL_NAME', 'VISIT_END_DATE_DT', 'USER_ID', 'VISITOR_ID'] \n",
      "\n",
      "Percentage of duplicate records in Visits data: 34.642638\n"
     ]
    }
   ],
   "source": [
    "## Summarizing number of rows, columns before and after deduping\n",
    "\n",
    "\n",
    "rows = visits.shape[0] \n",
    "visits = visits.drop_duplicates(keep =\"first\")\n",
    "\n",
    "rows_no_dup = visits.shape[0] \n",
    "columns = visits.shape[1]\n",
    "column_names = list(visits.columns)\n",
    "\n",
    "print(\"Number of actually rows : %d \\nNumber of unique rows : %d \\nNumber of Columns:  %d \\nColumns: %s \"\n",
    "      %(rows, rows_no_dup, columns ,column_names))\n",
    "print(\"\")\n",
    "print(\"Percentage of duplicate records in Visits data: %f\" %(rows_no_dup * 100/ rows))"
   ]
  },
  {
   "cell_type": "markdown",
   "metadata": {
    "slideshow": {
     "slide_type": "skip"
    }
   },
   "source": [
    "<strong>2.3 categorizing the dataset by number of visits made by visitor before each purchase "
   ]
  },
  {
   "cell_type": "code",
   "execution_count": 12,
   "metadata": {
    "scrolled": true,
    "slideshow": {
     "slide_type": "skip"
    }
   },
   "outputs": [],
   "source": [
    "# ## looping through each customer id to get in sales and checking how many visits \n",
    "# ## they made before that purchase to create dataset for markov chain model\n",
    "\n",
    "\n",
    "# list_of_dfs = []\n",
    "\n",
    "# for num, cid in enumerate(set(sales[\"CUSTOMER_ID\"])):\n",
    "#     order_dates = list(sales[sales[\"CUSTOMER_ID\"] == cid][\"ORDER_DATE\"])\n",
    "#     for order_num, order_date in enumerate(order_dates):\n",
    "#         one_customer_visit_df = visits[visits[\"USER_ID\"] == cid]\n",
    "#         visits_before_purchase_df = one_customer_visit_df[one_customer_visit_df[\"VISIT_END_DATE_DT\"] <= order_date]\n",
    "#         visits_before_purchase_df[\"PURCHASE_ORDER_NUM\"] = order_num\n",
    "#         list_of_dfs.append(visits_before_purchase_df)\n",
    "        \n",
    "# final = pd.concat(list_of_dfs)\n",
    "# final.to_csv(\"data/purchase_order_num.csv\")"
   ]
  },
  {
   "cell_type": "code",
   "execution_count": 13,
   "metadata": {
    "slideshow": {
     "slide_type": "skip"
    }
   },
   "outputs": [],
   "source": [
    "final = pd.read_csv(\"data/purchase_order_num.csv\", index_col=0)"
   ]
  },
  {
   "cell_type": "code",
   "execution_count": 14,
   "metadata": {
    "slideshow": {
     "slide_type": "skip"
    }
   },
   "outputs": [],
   "source": [
    "## creating new user id to identify how many orders one placed based on that\n",
    " \n",
    "\n",
    "final[\"PURCHASE_ORDER_NUM\"] = final[\"PURCHASE_ORDER_NUM\"] +1\n",
    "final[\"NEW_USER_ID\"] = final[\"USER_ID\"].astype(str) + \"-\" + final[\"PURCHASE_ORDER_NUM\"].astype(str)"
   ]
  },
  {
   "cell_type": "code",
   "execution_count": 15,
   "metadata": {
    "scrolled": true,
    "slideshow": {
     "slide_type": "skip"
    }
   },
   "outputs": [],
   "source": [
    "## merging it with visits data\n",
    "\n",
    "\n",
    "visits_joined = pd.merge(visits, final, on =[\"WEBSITE_NM\",\"CHANNEL_NAME\",\n",
    "                                             \"VISIT_END_DATE_DT\", \"USER_ID\",\"VISITOR_ID\"], how = \"left\")\n",
    "visits_joined[\"PURCHASE_ORDER_NUM\"]= visits_joined[\"PURCHASE_ORDER_NUM\"].fillna(0)\n",
    "visits_joined[\"NEW_USER_ID\"] = visits_joined[\"NEW_USER_ID\"].fillna(visits_joined\n",
    "                    [\"USER_ID\"].astype(str) + \"-\"+ visits_joined[\"PURCHASE_ORDER_NUM\"].astype(str))"
   ]
  },
  {
   "cell_type": "code",
   "execution_count": 16,
   "metadata": {
    "slideshow": {
     "slide_type": "skip"
    }
   },
   "outputs": [],
   "source": [
    "## seperating converted users and non converted users\n",
    "\n",
    " \n",
    "visits_sales_df = pd.merge(visits_joined, sales, right_on=\"CUSTOMER_ID\", left_on=\"USER_ID\", how = \"left\")\n",
    "converted_visits_sales_df = visits_sales_df[visits_sales_df.ORDER_NUMBER.notnull()].reset_index(drop = True)\n",
    "non_converted_visits_sales_df = visits_sales_df[~visits_sales_df.ORDER_NUMBER.notnull()].reset_index(drop = True)\n",
    "\n",
    "converted_visits_sales_df = visits_sales_df[visits_sales_df.ORDER_NUMBER.notnull()].reset_index(drop = True)\n",
    "non_converted_visits_sales_df = visits_sales_df[~visits_sales_df.ORDER_NUMBER.notnull()].reset_index(drop = True)"
   ]
  },
  {
   "cell_type": "code",
   "execution_count": 17,
   "metadata": {
    "slideshow": {
     "slide_type": "skip"
    }
   },
   "outputs": [],
   "source": [
    "# filtering out unnecessary columns\n",
    "\n",
    "\n",
    "converted_visits_sales_df = converted_visits_sales_df[[\"USER_ID\",\"CHANNEL_NAME\",\n",
    "                                                       \"NEW_USER_ID\",\"VISIT_END_DATE_DT\",\"ORDER_NUMBER\"]]\n",
    "non_converted_visits_sales_df = non_converted_visits_sales_df[[\"USER_ID\",\"CHANNEL_NAME\",\n",
    "                                                               \"NEW_USER_ID\",\"VISIT_END_DATE_DT\",\"ORDER_NUMBER\"]]"
   ]
  },
  {
   "cell_type": "code",
   "execution_count": 18,
   "metadata": {
    "extensions": {
     "jupyter_dashboards": {
      "version": 1,
      "views": {
       "grid_default": {
        "hidden": true
       },
       "report_default": {}
      }
     }
    },
    "scrolled": true,
    "slideshow": {
     "slide_type": "skip"
    }
   },
   "outputs": [],
   "source": [
    "## grouping by USER_ID to generate vistior path\n",
    "\n",
    "\n",
    "converted_user_path = converted_visits_sales_df.groupby([\"NEW_USER_ID\"])[\"CHANNEL_NAME\"].apply(lambda x: ' > '.join(x)).reset_index()\n",
    "non_converted_user_path = non_converted_visits_sales_df.groupby([\"NEW_USER_ID\"])[\"CHANNEL_NAME\"].apply(lambda x: ' > '.join(x)).reset_index()\n",
    "\n",
    "converted_user_path[\"conv\"] = 1\n",
    "converted_user_path[\"no_conv\"] = 0\n",
    "\n",
    "non_converted_user_path[\"conv\"] = 0 \n",
    "non_converted_user_path[\"no_conv\"] = 1\n",
    "\n",
    "user_path_df = pd.concat([converted_user_path, non_converted_user_path]).reset_index(drop = True).drop(\"NEW_USER_ID\", axis = 1)"
   ]
  },
  {
   "cell_type": "markdown",
   "metadata": {
    "slideshow": {
     "slide_type": "skip"
    }
   },
   "source": [
    "#### Final data set with user path"
   ]
  },
  {
   "cell_type": "code",
   "execution_count": 19,
   "metadata": {
    "scrolled": true,
    "slideshow": {
     "slide_type": "slide"
    }
   },
   "outputs": [
    {
     "data": {
      "text/html": [
       "<div>\n",
       "<style scoped>\n",
       "    .dataframe tbody tr th:only-of-type {\n",
       "        vertical-align: middle;\n",
       "    }\n",
       "\n",
       "    .dataframe tbody tr th {\n",
       "        vertical-align: top;\n",
       "    }\n",
       "\n",
       "    .dataframe thead th {\n",
       "        text-align: right;\n",
       "    }\n",
       "</style>\n",
       "<table border=\"1\" class=\"dataframe\">\n",
       "  <thead>\n",
       "    <tr style=\"text-align: right;\">\n",
       "      <th></th>\n",
       "      <th>CHANNEL_NAME</th>\n",
       "      <th>conv</th>\n",
       "      <th>no_conv</th>\n",
       "    </tr>\n",
       "  </thead>\n",
       "  <tbody>\n",
       "    <tr>\n",
       "      <th>162041</th>\n",
       "      <td>direct &gt; pla &gt; pla &gt; pla &gt; pla &gt; direct &gt; pla</td>\n",
       "      <td>0</td>\n",
       "      <td>1</td>\n",
       "    </tr>\n",
       "    <tr>\n",
       "      <th>152454</th>\n",
       "      <td>organic &gt; direct &gt; direct</td>\n",
       "      <td>0</td>\n",
       "      <td>1</td>\n",
       "    </tr>\n",
       "    <tr>\n",
       "      <th>37693</th>\n",
       "      <td>pla &gt; pla &gt; pla &gt; pla &gt; pla &gt; pla &gt; organic &gt; ...</td>\n",
       "      <td>1</td>\n",
       "      <td>0</td>\n",
       "    </tr>\n",
       "    <tr>\n",
       "      <th>63730</th>\n",
       "      <td>pla &gt; organic &gt; organic &gt; pla &gt; pla &gt; pla &gt; pl...</td>\n",
       "      <td>1</td>\n",
       "      <td>0</td>\n",
       "    </tr>\n",
       "    <tr>\n",
       "      <th>53594</th>\n",
       "      <td>email &gt; email &gt; email &gt; email &gt; email &gt; email ...</td>\n",
       "      <td>1</td>\n",
       "      <td>0</td>\n",
       "    </tr>\n",
       "    <tr>\n",
       "      <th>140878</th>\n",
       "      <td>direct &gt; direct &gt; direct &gt; direct</td>\n",
       "      <td>0</td>\n",
       "      <td>1</td>\n",
       "    </tr>\n",
       "    <tr>\n",
       "      <th>30579</th>\n",
       "      <td>direct &gt; direct &gt; direct &gt; direct &gt; direct &gt; d...</td>\n",
       "      <td>1</td>\n",
       "      <td>0</td>\n",
       "    </tr>\n",
       "    <tr>\n",
       "      <th>73108</th>\n",
       "      <td>direct &gt; direct &gt; direct &gt; direct &gt; direct &gt; d...</td>\n",
       "      <td>1</td>\n",
       "      <td>0</td>\n",
       "    </tr>\n",
       "    <tr>\n",
       "      <th>148049</th>\n",
       "      <td>pla &gt; organic &gt; pla</td>\n",
       "      <td>0</td>\n",
       "      <td>1</td>\n",
       "    </tr>\n",
       "    <tr>\n",
       "      <th>38341</th>\n",
       "      <td>direct &gt; organic &gt; affiliate &gt; email &gt; email &gt;...</td>\n",
       "      <td>1</td>\n",
       "      <td>0</td>\n",
       "    </tr>\n",
       "    <tr>\n",
       "      <th>162656</th>\n",
       "      <td>pla &gt; pla &gt; pla &gt; pla &gt; pla &gt; pla &gt; pla &gt; pla ...</td>\n",
       "      <td>0</td>\n",
       "      <td>1</td>\n",
       "    </tr>\n",
       "    <tr>\n",
       "      <th>103068</th>\n",
       "      <td>organic &gt; organic &gt; organic &gt; organic &gt; organi...</td>\n",
       "      <td>0</td>\n",
       "      <td>1</td>\n",
       "    </tr>\n",
       "    <tr>\n",
       "      <th>51825</th>\n",
       "      <td>display-media &gt; display-media &gt; display-media ...</td>\n",
       "      <td>1</td>\n",
       "      <td>0</td>\n",
       "    </tr>\n",
       "    <tr>\n",
       "      <th>118686</th>\n",
       "      <td>direct &gt; direct &gt; direct &gt; direct &gt; direct &gt; d...</td>\n",
       "      <td>0</td>\n",
       "      <td>1</td>\n",
       "    </tr>\n",
       "    <tr>\n",
       "      <th>142569</th>\n",
       "      <td>affiliate &gt; affiliate &gt; affiliate &gt; affiliate ...</td>\n",
       "      <td>0</td>\n",
       "      <td>1</td>\n",
       "    </tr>\n",
       "    <tr>\n",
       "      <th>444</th>\n",
       "      <td>organic &gt; organic &gt; organic &gt; organic &gt; organi...</td>\n",
       "      <td>1</td>\n",
       "      <td>0</td>\n",
       "    </tr>\n",
       "    <tr>\n",
       "      <th>162406</th>\n",
       "      <td>affiliate &gt; affiliate &gt; affiliate &gt; affiliate ...</td>\n",
       "      <td>0</td>\n",
       "      <td>1</td>\n",
       "    </tr>\n",
       "    <tr>\n",
       "      <th>121535</th>\n",
       "      <td>email &gt; email &gt; email</td>\n",
       "      <td>0</td>\n",
       "      <td>1</td>\n",
       "    </tr>\n",
       "    <tr>\n",
       "      <th>148387</th>\n",
       "      <td>email &gt; display-media &gt; email &gt; display-media ...</td>\n",
       "      <td>0</td>\n",
       "      <td>1</td>\n",
       "    </tr>\n",
       "    <tr>\n",
       "      <th>28376</th>\n",
       "      <td>affiliate &gt; affiliate &gt; affiliate &gt; affiliate ...</td>\n",
       "      <td>1</td>\n",
       "      <td>0</td>\n",
       "    </tr>\n",
       "    <tr>\n",
       "      <th>69513</th>\n",
       "      <td>direct &gt; direct &gt; direct &gt; direct &gt; direct &gt; d...</td>\n",
       "      <td>1</td>\n",
       "      <td>0</td>\n",
       "    </tr>\n",
       "    <tr>\n",
       "      <th>70898</th>\n",
       "      <td>direct &gt; direct &gt; direct &gt; direct &gt; direct &gt; d...</td>\n",
       "      <td>1</td>\n",
       "      <td>0</td>\n",
       "    </tr>\n",
       "    <tr>\n",
       "      <th>56824</th>\n",
       "      <td>organic &gt; affiliate &gt; affiliate &gt; email &gt; orga...</td>\n",
       "      <td>1</td>\n",
       "      <td>0</td>\n",
       "    </tr>\n",
       "    <tr>\n",
       "      <th>27037</th>\n",
       "      <td>affiliate &gt; affiliate &gt; branded-paid-search &gt; ...</td>\n",
       "      <td>1</td>\n",
       "      <td>0</td>\n",
       "    </tr>\n",
       "    <tr>\n",
       "      <th>75123</th>\n",
       "      <td>pla &gt; organic &gt; pla &gt; pla &gt; pla &gt; pla &gt; pla &gt; ...</td>\n",
       "      <td>1</td>\n",
       "      <td>0</td>\n",
       "    </tr>\n",
       "    <tr>\n",
       "      <th>87091</th>\n",
       "      <td>email &gt; email &gt; email &gt; direct &gt; direct &gt; dire...</td>\n",
       "      <td>1</td>\n",
       "      <td>0</td>\n",
       "    </tr>\n",
       "    <tr>\n",
       "      <th>113197</th>\n",
       "      <td>direct &gt; direct &gt; direct &gt; direct</td>\n",
       "      <td>0</td>\n",
       "      <td>1</td>\n",
       "    </tr>\n",
       "    <tr>\n",
       "      <th>57172</th>\n",
       "      <td>non-branded-paid-search &gt; non-branded-paid-sea...</td>\n",
       "      <td>1</td>\n",
       "      <td>0</td>\n",
       "    </tr>\n",
       "    <tr>\n",
       "      <th>20235</th>\n",
       "      <td>organic &gt; organic &gt; organic &gt; organic &gt; organi...</td>\n",
       "      <td>1</td>\n",
       "      <td>0</td>\n",
       "    </tr>\n",
       "    <tr>\n",
       "      <th>98158</th>\n",
       "      <td>organic &gt; organic &gt; email &gt; organic</td>\n",
       "      <td>0</td>\n",
       "      <td>1</td>\n",
       "    </tr>\n",
       "    <tr>\n",
       "      <th>53777</th>\n",
       "      <td>pla &gt; pla &gt; pla &gt; pla &gt; pla</td>\n",
       "      <td>1</td>\n",
       "      <td>0</td>\n",
       "    </tr>\n",
       "    <tr>\n",
       "      <th>5123</th>\n",
       "      <td>pla &gt; pla</td>\n",
       "      <td>1</td>\n",
       "      <td>0</td>\n",
       "    </tr>\n",
       "    <tr>\n",
       "      <th>101587</th>\n",
       "      <td>non-branded-paid-search &gt; non-branded-paid-sea...</td>\n",
       "      <td>0</td>\n",
       "      <td>1</td>\n",
       "    </tr>\n",
       "    <tr>\n",
       "      <th>91735</th>\n",
       "      <td>email &gt; email &gt; email &gt; email &gt; email &gt; email ...</td>\n",
       "      <td>1</td>\n",
       "      <td>0</td>\n",
       "    </tr>\n",
       "    <tr>\n",
       "      <th>95662</th>\n",
       "      <td>pla &gt; pla &gt; pla &gt; pla &gt; organic &gt; direct &gt; org...</td>\n",
       "      <td>0</td>\n",
       "      <td>1</td>\n",
       "    </tr>\n",
       "    <tr>\n",
       "      <th>41358</th>\n",
       "      <td>organic &gt; direct</td>\n",
       "      <td>1</td>\n",
       "      <td>0</td>\n",
       "    </tr>\n",
       "    <tr>\n",
       "      <th>92297</th>\n",
       "      <td>non-branded-paid-search &gt; non-branded-paid-sea...</td>\n",
       "      <td>1</td>\n",
       "      <td>0</td>\n",
       "    </tr>\n",
       "    <tr>\n",
       "      <th>55582</th>\n",
       "      <td>direct &gt; direct &gt; organic &gt; organic &gt; organic ...</td>\n",
       "      <td>1</td>\n",
       "      <td>0</td>\n",
       "    </tr>\n",
       "    <tr>\n",
       "      <th>62181</th>\n",
       "      <td>email &gt; email &gt; email &gt; email &gt; email &gt; email ...</td>\n",
       "      <td>1</td>\n",
       "      <td>0</td>\n",
       "    </tr>\n",
       "    <tr>\n",
       "      <th>140684</th>\n",
       "      <td>organic &gt; affiliate &gt; display-media</td>\n",
       "      <td>0</td>\n",
       "      <td>1</td>\n",
       "    </tr>\n",
       "    <tr>\n",
       "      <th>18980</th>\n",
       "      <td>non-branded-paid-search &gt; non-branded-paid-sea...</td>\n",
       "      <td>1</td>\n",
       "      <td>0</td>\n",
       "    </tr>\n",
       "    <tr>\n",
       "      <th>109930</th>\n",
       "      <td>direct &gt; direct &gt; direct</td>\n",
       "      <td>0</td>\n",
       "      <td>1</td>\n",
       "    </tr>\n",
       "    <tr>\n",
       "      <th>117061</th>\n",
       "      <td>display-media &gt; pla &gt; display-media &gt; display-...</td>\n",
       "      <td>0</td>\n",
       "      <td>1</td>\n",
       "    </tr>\n",
       "    <tr>\n",
       "      <th>61526</th>\n",
       "      <td>email &gt; email &gt; email</td>\n",
       "      <td>1</td>\n",
       "      <td>0</td>\n",
       "    </tr>\n",
       "    <tr>\n",
       "      <th>155395</th>\n",
       "      <td>organic &gt; organic &gt; organic &gt; organic &gt; organi...</td>\n",
       "      <td>0</td>\n",
       "      <td>1</td>\n",
       "    </tr>\n",
       "    <tr>\n",
       "      <th>27780</th>\n",
       "      <td>organic &gt; organic &gt; organic &gt; organic &gt; organi...</td>\n",
       "      <td>1</td>\n",
       "      <td>0</td>\n",
       "    </tr>\n",
       "    <tr>\n",
       "      <th>45252</th>\n",
       "      <td>display-media &gt; display-media</td>\n",
       "      <td>1</td>\n",
       "      <td>0</td>\n",
       "    </tr>\n",
       "    <tr>\n",
       "      <th>149966</th>\n",
       "      <td>pla &gt; direct &gt; pla &gt; pla &gt; organic &gt; organic &gt;...</td>\n",
       "      <td>0</td>\n",
       "      <td>1</td>\n",
       "    </tr>\n",
       "    <tr>\n",
       "      <th>122682</th>\n",
       "      <td>pla</td>\n",
       "      <td>0</td>\n",
       "      <td>1</td>\n",
       "    </tr>\n",
       "    <tr>\n",
       "      <th>8004</th>\n",
       "      <td>direct &gt; direct &gt; direct &gt; direct</td>\n",
       "      <td>1</td>\n",
       "      <td>0</td>\n",
       "    </tr>\n",
       "  </tbody>\n",
       "</table>\n",
       "</div>"
      ],
      "text/plain": [
       "                                             CHANNEL_NAME  conv  no_conv\n",
       "162041      direct > pla > pla > pla > pla > direct > pla     0        1\n",
       "152454                          organic > direct > direct     0        1\n",
       "37693   pla > pla > pla > pla > pla > pla > organic > ...     1        0\n",
       "63730   pla > organic > organic > pla > pla > pla > pl...     1        0\n",
       "53594   email > email > email > email > email > email ...     1        0\n",
       "140878                  direct > direct > direct > direct     0        1\n",
       "30579   direct > direct > direct > direct > direct > d...     1        0\n",
       "73108   direct > direct > direct > direct > direct > d...     1        0\n",
       "148049                                pla > organic > pla     0        1\n",
       "38341   direct > organic > affiliate > email > email >...     1        0\n",
       "162656  pla > pla > pla > pla > pla > pla > pla > pla ...     0        1\n",
       "103068  organic > organic > organic > organic > organi...     0        1\n",
       "51825   display-media > display-media > display-media ...     1        0\n",
       "118686  direct > direct > direct > direct > direct > d...     0        1\n",
       "142569  affiliate > affiliate > affiliate > affiliate ...     0        1\n",
       "444     organic > organic > organic > organic > organi...     1        0\n",
       "162406  affiliate > affiliate > affiliate > affiliate ...     0        1\n",
       "121535                              email > email > email     0        1\n",
       "148387  email > display-media > email > display-media ...     0        1\n",
       "28376   affiliate > affiliate > affiliate > affiliate ...     1        0\n",
       "69513   direct > direct > direct > direct > direct > d...     1        0\n",
       "70898   direct > direct > direct > direct > direct > d...     1        0\n",
       "56824   organic > affiliate > affiliate > email > orga...     1        0\n",
       "27037   affiliate > affiliate > branded-paid-search > ...     1        0\n",
       "75123   pla > organic > pla > pla > pla > pla > pla > ...     1        0\n",
       "87091   email > email > email > direct > direct > dire...     1        0\n",
       "113197                  direct > direct > direct > direct     0        1\n",
       "57172   non-branded-paid-search > non-branded-paid-sea...     1        0\n",
       "20235   organic > organic > organic > organic > organi...     1        0\n",
       "98158                 organic > organic > email > organic     0        1\n",
       "53777                         pla > pla > pla > pla > pla     1        0\n",
       "5123                                            pla > pla     1        0\n",
       "101587  non-branded-paid-search > non-branded-paid-sea...     0        1\n",
       "91735   email > email > email > email > email > email ...     1        0\n",
       "95662   pla > pla > pla > pla > organic > direct > org...     0        1\n",
       "41358                                    organic > direct     1        0\n",
       "92297   non-branded-paid-search > non-branded-paid-sea...     1        0\n",
       "55582   direct > direct > organic > organic > organic ...     1        0\n",
       "62181   email > email > email > email > email > email ...     1        0\n",
       "140684                organic > affiliate > display-media     0        1\n",
       "18980   non-branded-paid-search > non-branded-paid-sea...     1        0\n",
       "109930                           direct > direct > direct     0        1\n",
       "117061  display-media > pla > display-media > display-...     0        1\n",
       "61526                               email > email > email     1        0\n",
       "155395  organic > organic > organic > organic > organi...     0        1\n",
       "27780   organic > organic > organic > organic > organi...     1        0\n",
       "45252                       display-media > display-media     1        0\n",
       "149966  pla > direct > pla > pla > organic > organic >...     0        1\n",
       "122682                                                pla     0        1\n",
       "8004                    direct > direct > direct > direct     1        0"
      ]
     },
     "execution_count": 19,
     "metadata": {},
     "output_type": "execute_result"
    }
   ],
   "source": [
    "## user_path_df sample\n",
    "\n",
    "\n",
    "user_path_df.sample(50)"
   ]
  },
  {
   "cell_type": "code",
   "execution_count": 21,
   "metadata": {
    "extensions": {
     "jupyter_dashboards": {
      "version": 1,
      "views": {
       "grid_default": {
        "hidden": true
       },
       "report_default": {}
      }
     }
    },
    "scrolled": true
   },
   "outputs": [],
   "source": [
    "## writing to user_path data to csv\n",
    "\n",
    "\n",
    "user_path_df.to_csv(\"data/user_path_df.csv\", index= None)"
   ]
  },
  {
   "cell_type": "markdown",
   "metadata": {},
   "source": [
    " ### Part 3 : "
   ]
  },
  {
   "cell_type": "markdown",
   "metadata": {
    "slideshow": {
     "slide_type": "slide"
    }
   },
   "source": [
    "### Building the model : Markov Chain Model\n",
    "\n",
    "This dataset has been used to get attribution by markov model in R.\n",
    "\n",
    "\n",
    "<strong>What is Markov Chain Model?</strong>\n",
    "\n",
    "- A Probabilistic Model\n",
    "- Each Marketing Channel is represented by each vertex in Markov Chain and edge is Probability of transistion between channels\n",
    "\n",
    "\n",
    "<strong>What is used here?</strong>\n",
    "\n",
    "- Used \"memory-free\" or \"first-order\" Markov Graph"
   ]
  },
  {
   "cell_type": "code",
   "execution_count": 23,
   "metadata": {
    "slideshow": {
     "slide_type": "skip"
    }
   },
   "outputs": [
    {
     "data": {
      "text/html": [
       "<style>\n",
       "table {float:left}\n",
       "</style>"
      ],
      "text/plain": [
       "<IPython.core.display.HTML object>"
      ]
     },
     "metadata": {},
     "output_type": "display_data"
    }
   ],
   "source": [
    "%%html\n",
    "<style>\n",
    "table {float:left}\n",
    "</style>"
   ]
  },
  {
   "cell_type": "markdown",
   "metadata": {
    "slideshow": {
     "slide_type": "slide"
    }
   },
   "source": [
    "### Example of Markov Chain Model\n",
    "\n",
    "<strong>Channels : </strong>\n",
    "\n",
    "Paid, Organic, Email\n",
    "\n",
    "\n",
    "<strong>Customer Journey:</strong>\n",
    "\n",
    "| Path | Result |\n",
    "| :-------- | --------:|\n",
    "| Paid -> Organic -> Email | purchase |\n",
    "| Paid | no conversion |\n",
    "| Organic -> Email| no conversion |\n"
   ]
  },
  {
   "cell_type": "markdown",
   "metadata": {
    "slideshow": {
     "slide_type": "slide"
    }
   },
   "source": [
    "### Methodology\n",
    "\n",
    "Build Chain:\n",
    "\n",
    "1. Add Start and Conversion/Null to the Paths \n",
    "2. Split paths into pairs\n",
    "3. Calculate transition probablity from one state to state\n",
    "\n",
    "Example:\n",
    "\n",
    "(start) -> Paid -> Organic -> Email -> (conversion)\n",
    "\n",
    "\n",
    "\n",
    "(start) -> Paid, Paid -> Organic, Organic -> Email, Email -> (conversion)\n",
    "\n",
    "|from\t| to\t| probability\t\n",
    "| :-------- | --------:|\n",
    "|(start)\t| Paid\t| 2/3\t\n",
    "|(start)\t| Organic\t|   1/3\t\n",
    "|Paid |\tOrganic\t|1/2\t\n",
    "|Paid\t|(null)|\t1/2\t\n",
    "|Organic\t|Email\t|1/2\n",
    "|Email\t|(conversion)|\t1/2 \n",
    "|Email\t|(null)\t|1/2"
   ]
  },
  {
   "cell_type": "code",
   "execution_count": 24,
   "metadata": {
    "slideshow": {
     "slide_type": "slide"
    }
   },
   "outputs": [
    {
     "data": {
      "image/png": "[encoded data removed]",
      "text/plain": [
       "<IPython.core.display.Image object>"
      ]
     },
     "execution_count": 24,
     "metadata": {},
     "output_type": "execute_result"
    }
   ],
   "source": [
    "Image(filename=\"images/sample_markov_chain.png\")"
   ]
  },
  {
   "cell_type": "markdown",
   "metadata": {
    "slideshow": {
     "slide_type": "slide"
    }
   },
   "source": [
    "### Removal Effect\n",
    "\n",
    "\n",
    "Removing each channel from the chain and estimating how many conversion are made without that channel\n",
    "\n",
    "\n",
    "<strong>Example :</strong>\n",
    "\n",
    "Probability of conversion = 33.3% =  (0.667 x 0.5 x 1 x 0.5 + 0.333 x 1 x 0.5)<br> \n",
    "Probability of conversion after removing the Paid channel = 16.7% = (0.333 x 1 x 0.5)\n",
    "\n",
    "Removal Effect =  0.5 or 50%  = 1 – (0.167 / 0.333)\n",
    "\n",
    "Removate Effect of Organic and Email is 1 or 100%"
   ]
  },
  {
   "cell_type": "markdown",
   "metadata": {
    "slideshow": {
     "slide_type": "slide"
    }
   },
   "source": [
    "### Attribution\n",
    "\n",
    "How attributions are calculated \n",
    "\n",
    "Attribution for a channel = no. of conversions x (Removal Effect of that Channel / Total Removal Effect )\n",
    "\n",
    "Paid = 0.2<br>\n",
    "Organic =  0.4<br>\n",
    "Email = 0.4<br>\n",
    "\n",
    "Total = 1 \n"
   ]
  },
  {
   "cell_type": "markdown",
   "metadata": {
    "extensions": {
     "jupyter_dashboards": {
      "version": 1,
      "views": {
       "grid_default": {
        "col": 8,
        "height": 4,
        "hidden": false,
        "row": 68,
        "width": 4
       },
       "report_default": {}
      }
     }
    },
    "slideshow": {
     "slide_type": "skip"
    }
   },
   "source": [
    "### Part 4 : "
   ]
  },
  {
   "cell_type": "markdown",
   "metadata": {
    "slideshow": {
     "slide_type": "skip"
    }
   },
   "source": [
    "### Comparision with other Attribution Models"
   ]
  },
  {
   "cell_type": "code",
   "execution_count": 4,
   "metadata": {
    "slideshow": {
     "slide_type": "skip"
    }
   },
   "outputs": [],
   "source": [
    "markov_chain_results = pd.read_csv(\"data/markov_chain_result.csv\", index_col= 0)"
   ]
  },
  {
   "cell_type": "code",
   "execution_count": 26,
   "metadata": {
    "slideshow": {
     "slide_type": "skip"
    }
   },
   "outputs": [],
   "source": [
    "## function to generate last columns of the user paths in each case\n",
    "\n",
    "\n",
    "def get_attribution(row):\n",
    "    channels = row[\"CHANNEL_NAME\"].split(\">\")\n",
    "    row[\"first_click\"] = channels[0].strip()\n",
    "    row[\"last_click\"] = channels[-1].strip()\n",
    "    try:\n",
    "        row[\"last_non_direct_click\"] = channels[-2].strip()\n",
    "    except:\n",
    "        row[\"last_non_direct_click\"] = channels[-1].strip()\n",
    "    return row\n",
    "\n",
    "#applying function on the data\n",
    "\n",
    "user_path_df = user_path_df.apply(get_attribution, axis = 1)"
   ]
  },
  {
   "cell_type": "code",
   "execution_count": 27,
   "metadata": {
    "slideshow": {
     "slide_type": "skip"
    }
   },
   "outputs": [],
   "source": [
    "## Creating a summary dataframe of different attribution types\n",
    "\n",
    "\n",
    "first_click = pd.DataFrame(user_path_df[user_path_df[\"conv\"] == 1][\"first_click\"].\n",
    "             value_counts()).reset_index().rename(columns = {\"index\":\"channel\"})\n",
    "\n",
    "last_click = pd.DataFrame(user_path_df[user_path_df[\"conv\"] == 1][\"last_click\"].\n",
    "             value_counts()).reset_index().rename(columns = {\"index\":\"channel\"})\n",
    "\n",
    "last_non_direct_click = pd.DataFrame(user_path_df[user_path_df[\"conv\"] == 1][\"last_non_direct_click\"].\n",
    "             value_counts()).reset_index().rename(columns = {\"index\":\"channel\"})\n",
    "\n",
    "summary = pd.merge(first_click, last_click, on = \"channel\",\n",
    "         how = \"inner\").merge(last_non_direct_click, on = \"channel\", how = \"inner\")"
   ]
  },
  {
   "cell_type": "markdown",
   "metadata": {
    "slideshow": {
     "slide_type": "skip"
    }
   },
   "source": [
    "#### Grouped bar plot"
   ]
  },
  {
   "cell_type": "code",
   "execution_count": 28,
   "metadata": {
    "scrolled": true,
    "slideshow": {
     "slide_type": "skip"
    }
   },
   "outputs": [],
   "source": [
    "\n",
    "def strip_white(row):\n",
    "    return row.strip()\n",
    "\n",
    "markov_chain_results = markov_chain_results.rename(columns = {\"channel_name\":\"channel\", \"total_conversions\":\"markov_chain\"})\n",
    "markov_chain_results.channel = markov_chain_results.channel.astype(str).apply(strip_white)\n",
    "markov_chain_results = markov_chain_results.sort_values(by = \"markov_chain\", ascending= False)"
   ]
  },
  {
   "cell_type": "code",
   "execution_count": 29,
   "metadata": {
    "scrolled": true,
    "slideshow": {
     "slide_type": "skip"
    }
   },
   "outputs": [],
   "source": [
    "summary = pd.merge(markov_chain_results, summary, on = \"channel\", how = \"left\").fillna(0)\n",
    "summary = summary.set_index(\"channel\")"
   ]
  },
  {
   "cell_type": "markdown",
   "metadata": {
    "slideshow": {
     "slide_type": "slide"
    }
   },
   "source": [
    "### Markov Chain Attribution Results & Comparison"
   ]
  },
  {
   "cell_type": "code",
   "execution_count": 46,
   "metadata": {
    "slideshow": {
     "slide_type": "fragment"
    }
   },
   "outputs": [
    {
     "data": {
      "text/html": [
       "<div>\n",
       "<style scoped>\n",
       "    .dataframe tbody tr th:only-of-type {\n",
       "        vertical-align: middle;\n",
       "    }\n",
       "\n",
       "    .dataframe tbody tr th {\n",
       "        vertical-align: top;\n",
       "    }\n",
       "\n",
       "    .dataframe thead th {\n",
       "        text-align: right;\n",
       "    }\n",
       "</style>\n",
       "<table border=\"1\" class=\"dataframe\">\n",
       "  <thead>\n",
       "    <tr style=\"text-align: right;\">\n",
       "      <th></th>\n",
       "      <th>markov_chain</th>\n",
       "      <th>first_click</th>\n",
       "      <th>last_click</th>\n",
       "      <th>last_non_direct_click</th>\n",
       "      <th>markov_chain-first_click</th>\n",
       "      <th>markov_chain-last_click</th>\n",
       "      <th>markov_chain-last_non_direct_click</th>\n",
       "    </tr>\n",
       "    <tr>\n",
       "      <th>channel</th>\n",
       "      <th></th>\n",
       "      <th></th>\n",
       "      <th></th>\n",
       "      <th></th>\n",
       "      <th></th>\n",
       "      <th></th>\n",
       "      <th></th>\n",
       "    </tr>\n",
       "  </thead>\n",
       "  <tbody>\n",
       "    <tr>\n",
       "      <th>direct</th>\n",
       "      <td>17221.141953</td>\n",
       "      <td>22163.0</td>\n",
       "      <td>27366.0</td>\n",
       "      <td>25449.0</td>\n",
       "      <td>-22.297785</td>\n",
       "      <td>-37.071030</td>\n",
       "      <td>-32.330772</td>\n",
       "    </tr>\n",
       "    <tr>\n",
       "      <th>organic</th>\n",
       "      <td>16570.959619</td>\n",
       "      <td>18268.0</td>\n",
       "      <td>17292.0</td>\n",
       "      <td>17564.0</td>\n",
       "      <td>-9.289689</td>\n",
       "      <td>-4.169792</td>\n",
       "      <td>-5.653840</td>\n",
       "    </tr>\n",
       "    <tr>\n",
       "      <th>pla</th>\n",
       "      <td>14710.975674</td>\n",
       "      <td>15918.0</td>\n",
       "      <td>13186.0</td>\n",
       "      <td>14028.0</td>\n",
       "      <td>-7.582764</td>\n",
       "      <td>11.565112</td>\n",
       "      <td>4.868660</td>\n",
       "    </tr>\n",
       "    <tr>\n",
       "      <th>email</th>\n",
       "      <td>14567.233437</td>\n",
       "      <td>14352.0</td>\n",
       "      <td>14503.0</td>\n",
       "      <td>14721.0</td>\n",
       "      <td>1.499676</td>\n",
       "      <td>0.442898</td>\n",
       "      <td>-1.044539</td>\n",
       "    </tr>\n",
       "    <tr>\n",
       "      <th>display-media</th>\n",
       "      <td>11122.024648</td>\n",
       "      <td>7706.0</td>\n",
       "      <td>6904.0</td>\n",
       "      <td>7251.0</td>\n",
       "      <td>44.329414</td>\n",
       "      <td>61.095374</td>\n",
       "      <td>53.386080</td>\n",
       "    </tr>\n",
       "    <tr>\n",
       "      <th>affiliate</th>\n",
       "      <td>10545.570248</td>\n",
       "      <td>9057.0</td>\n",
       "      <td>7866.0</td>\n",
       "      <td>8057.0</td>\n",
       "      <td>16.435577</td>\n",
       "      <td>34.065221</td>\n",
       "      <td>30.887058</td>\n",
       "    </tr>\n",
       "    <tr>\n",
       "      <th>branded-paid-search</th>\n",
       "      <td>4309.840874</td>\n",
       "      <td>3533.0</td>\n",
       "      <td>3860.0</td>\n",
       "      <td>3844.0</td>\n",
       "      <td>21.988137</td>\n",
       "      <td>11.653909</td>\n",
       "      <td>12.118649</td>\n",
       "    </tr>\n",
       "    <tr>\n",
       "      <th>non-branded-paid-search</th>\n",
       "      <td>3826.078678</td>\n",
       "      <td>2711.0</td>\n",
       "      <td>2852.0</td>\n",
       "      <td>2838.0</td>\n",
       "      <td>41.131637</td>\n",
       "      <td>34.154231</td>\n",
       "      <td>34.816021</td>\n",
       "    </tr>\n",
       "    <tr>\n",
       "      <th>social-media</th>\n",
       "      <td>1025.060900</td>\n",
       "      <td>465.0</td>\n",
       "      <td>422.0</td>\n",
       "      <td>458.0</td>\n",
       "      <td>120.443204</td>\n",
       "      <td>142.905427</td>\n",
       "      <td>123.812424</td>\n",
       "    </tr>\n",
       "    <tr>\n",
       "      <th>domains</th>\n",
       "      <td>414.292559</td>\n",
       "      <td>231.0</td>\n",
       "      <td>244.0</td>\n",
       "      <td>256.0</td>\n",
       "      <td>79.347428</td>\n",
       "      <td>69.792032</td>\n",
       "      <td>61.833031</td>\n",
       "    </tr>\n",
       "  </tbody>\n",
       "</table>\n",
       "</div>"
      ],
      "text/plain": [
       "                         markov_chain  first_click  last_click  \\\n",
       "channel                                                          \n",
       "direct                   17221.141953      22163.0     27366.0   \n",
       "organic                  16570.959619      18268.0     17292.0   \n",
       "pla                      14710.975674      15918.0     13186.0   \n",
       "email                    14567.233437      14352.0     14503.0   \n",
       "display-media            11122.024648       7706.0      6904.0   \n",
       "affiliate                10545.570248       9057.0      7866.0   \n",
       "branded-paid-search       4309.840874       3533.0      3860.0   \n",
       "non-branded-paid-search   3826.078678       2711.0      2852.0   \n",
       "social-media              1025.060900        465.0       422.0   \n",
       "domains                    414.292559        231.0       244.0   \n",
       "\n",
       "                         last_non_direct_click  markov_chain-first_click  \\\n",
       "channel                                                                    \n",
       "direct                                 25449.0                -22.297785   \n",
       "organic                                17564.0                 -9.289689   \n",
       "pla                                    14028.0                 -7.582764   \n",
       "email                                  14721.0                  1.499676   \n",
       "display-media                           7251.0                 44.329414   \n",
       "affiliate                               8057.0                 16.435577   \n",
       "branded-paid-search                     3844.0                 21.988137   \n",
       "non-branded-paid-search                 2838.0                 41.131637   \n",
       "social-media                             458.0                120.443204   \n",
       "domains                                  256.0                 79.347428   \n",
       "\n",
       "                         markov_chain-last_click  \\\n",
       "channel                                            \n",
       "direct                                -37.071030   \n",
       "organic                                -4.169792   \n",
       "pla                                    11.565112   \n",
       "email                                   0.442898   \n",
       "display-media                          61.095374   \n",
       "affiliate                              34.065221   \n",
       "branded-paid-search                    11.653909   \n",
       "non-branded-paid-search                34.154231   \n",
       "social-media                          142.905427   \n",
       "domains                                69.792032   \n",
       "\n",
       "                         markov_chain-last_non_direct_click  \n",
       "channel                                                      \n",
       "direct                                           -32.330772  \n",
       "organic                                           -5.653840  \n",
       "pla                                                4.868660  \n",
       "email                                             -1.044539  \n",
       "display-media                                     53.386080  \n",
       "affiliate                                         30.887058  \n",
       "branded-paid-search                               12.118649  \n",
       "non-branded-paid-search                           34.816021  \n",
       "social-media                                     123.812424  \n",
       "domains                                           61.833031  "
      ]
     },
     "execution_count": 46,
     "metadata": {},
     "output_type": "execute_result"
    }
   ],
   "source": [
    "summary.head(10)"
   ]
  },
  {
   "cell_type": "code",
   "execution_count": 81,
   "metadata": {
    "slideshow": {
     "slide_type": "slide"
    }
   },
   "outputs": [
    {
     "data": {
      "image/png": "[encoded data removed]",
      "text/plain": [
       "<matplotlib.figure.Figure at 0x1a71667dd8>"
      ]
     },
     "metadata": {},
     "output_type": "display_data"
    }
   ],
   "source": [
    "fig = plt.figure(figsize=(10, 3), dpi=100)\n",
    "\n",
    "ax = fig.add_subplot(111) # Create matplotlib axes\n",
    "\n",
    "width = 0.2\n",
    "\n",
    "summary.first_click.plot(kind='bar', color='orange', ax=ax, width=width, position=0)\n",
    "summary.last_click.plot(kind='bar', color='blue', ax=ax, width=width, position=1)\n",
    "summary.last_non_direct_click.plot(kind='bar', color='yellow', ax=ax, width=width, position=2)\n",
    "summary.markov_chain.plot(kind = 'bar', color = \"red\", ax = ax , width= width, position = 3)\n",
    "\n",
    "ax.set_ylabel('Conversions')\n",
    "\n",
    "o = mpatches.Patch(color='orange', label='first_click')\n",
    "b = mpatches.Patch(color='blue', label='last_click')\n",
    "y = mpatches.Patch(color='yellow', label='last_non_direct_click')\n",
    "r = mpatches.Patch(color='red', label='markov_chain')\n",
    "plt.legend(handles=[o, r, b, y])\n",
    "plt.savefig(\"images/markov_chain_attribution_results.png\", dpi= fig.dpi)\n",
    "plt.show()"
   ]
  },
  {
   "cell_type": "code",
   "execution_count": 56,
   "metadata": {
    "slideshow": {
     "slide_type": "skip"
    }
   },
   "outputs": [
    {
     "data": {
      "text/html": [
       "<iframe id=\"igraph\" scrolling=\"no\" style=\"border:none;\" seamless=\"seamless\" src=\"https://plot.ly/~jonamjar/2.embed\" height=\"525px\" width=\"100%\"></iframe>"
      ],
      "text/plain": [
       "<plotly.tools.PlotlyDisplay object>"
      ]
     },
     "execution_count": 56,
     "metadata": {},
     "output_type": "execute_result"
    }
   ],
   "source": [
    "trace1 = go.Bar(\n",
    "    x= summary.index,\n",
    "    y=list(summary['markov_chain'].values),\n",
    "    name='Markov Chain'\n",
    ")\n",
    "trace2 = go.Bar(\n",
    "    x=summary.index,\n",
    "    y=list(summary['first_click'].values),\n",
    "    name='First Click'\n",
    ")\n",
    "\n",
    "trace3 = go.Bar(\n",
    "    x=summary.index,\n",
    "    y=list(summary['last_non_direct_click'].values),\n",
    "    name='Last Non Direct Click'\n",
    ")\n",
    "\n",
    "trace4 = go.Bar(\n",
    "    x=summary.index,\n",
    "    y=list(summary['last_click'].values),\n",
    "    name='Last Click'\n",
    ")\n",
    "\n",
    "data = [trace1, trace2, trace3, trace4]\n",
    "layout = go.Layout(\n",
    "    barmode='group'\n",
    ")\n",
    "\n",
    "fig = go.Figure(data=data, layout=layout)\n",
    "py.iplot(fig, filename='grouped-bar')"
   ]
  },
  {
   "cell_type": "code",
   "execution_count": 82,
   "metadata": {
    "scrolled": true,
    "slideshow": {
     "slide_type": "skip"
    }
   },
   "outputs": [],
   "source": [
    "for column_name in summary.columns:\n",
    "    if column_name != \"markov_chain\":\n",
    "        summary[\"markov_chain\" +\"-\"+column_name] = (summary[\"markov_chain\"] - summary[column_name]) * 100 /(summary[column_name])"
   ]
  },
  {
   "cell_type": "code",
   "execution_count": 83,
   "metadata": {
    "slideshow": {
     "slide_type": "slide"
    }
   },
   "outputs": [
    {
     "data": {
      "text/plain": [
       "markov_chain             94796.0\n",
       "first_click              94796.0\n",
       "last_click               94796.0\n",
       "last_non_direct_click    94796.0\n",
       "dtype: float64"
      ]
     },
     "execution_count": 83,
     "metadata": {},
     "output_type": "execute_result"
    }
   ],
   "source": [
    "#Total Conversion\n",
    "\n",
    "\n",
    "summary[[\"markov_chain\",\"first_click\",\"last_click\",\"last_non_direct_click\"]].sum()"
   ]
  },
  {
   "cell_type": "markdown",
   "metadata": {
    "slideshow": {
     "slide_type": "slide"
    }
   },
   "source": [
    "### Improvements\n",
    "\n",
    "- Higher order markov chains\n",
    "- First Time visitors vs nth time visitor\n",
    "- Customer Journey Time Boxing "
   ]
  },
  {
   "cell_type": "markdown",
   "metadata": {
    "slideshow": {
     "slide_type": "slide"
    }
   },
   "source": [
    "### Other Applications\n",
    "\n",
    "- Customer LTV\n",
    "- Predict prospective buyers\n",
    "- Natural Language Processing:Ad Copy generation "
   ]
  },
  {
   "cell_type": "code",
   "execution_count": 84,
   "metadata": {
    "slideshow": {
     "slide_type": "skip"
    }
   },
   "outputs": [],
   "source": [
    "##\n",
    "\n",
    "\n",
    "def channel_bigram(row):\n",
    "    if \">\" in row:\n",
    "        bigram_final = []\n",
    "        bigram_list = list(zip(row.split(\">\")[:-1], row.split(\">\")[1:]))\n",
    "        for bigram in bigram_list:\n",
    "            bigram = (bigram[0].strip(), bigram[1].strip())\n",
    "            bigram_final.append('#'.join(bigram))\n",
    "        result = \" > \".join(bigram_final)\n",
    "    else:\n",
    "        result = row\n",
    "    return result\n",
    "\n",
    "\n",
    "## deduping consecutive duplicates\n",
    "\n",
    "\n",
    "def channel_bigram_dedup(row):\n",
    "    path_list = row.split(\">\")\n",
    "    path_list = [channel.strip() for channel in path_list]\n",
    "    new_path = \" > \".join([x[0] for x in groupby(path_list)])\n",
    "    return channel_bigram(new_path)"
   ]
  },
  {
   "cell_type": "markdown",
   "metadata": {
    "slideshow": {
     "slide_type": "slide"
    }
   },
   "source": [
    "# Question - 3\n",
    "\n",
    "How should we treat off-line vs. online channels?\n"
   ]
  },
  {
   "cell_type": "markdown",
   "metadata": {
    "slideshow": {
     "slide_type": "skip"
    }
   },
   "source": [
    "<strong>3.1 Statistical Test for Correlation</strong>"
   ]
  },
  {
   "cell_type": "markdown",
   "metadata": {
    "slideshow": {
     "slide_type": "slide"
    }
   },
   "source": [
    "#### AOS : Website vs CS"
   ]
  },
  {
   "cell_type": "code",
   "execution_count": 85,
   "metadata": {
    "slideshow": {
     "slide_type": "fragment"
    }
   },
   "outputs": [
    {
     "name": "stdout",
     "output_type": "stream",
     "text": [
      "Sales dataset has about 52994 of customer making 76399 orders\n",
      "\n",
      "Percentage of Sales from Website : 84.299533\n",
      "Percentage of Sales from CS Agents : 15.700467 \n"
     ]
    }
   ],
   "source": [
    "\n",
    "print(\"Sales dataset has about %d of customer making %d orders\\n\" \n",
    "          %(len(sales.CUSTOMER_ID.unique()), len(sales.CUSTOMER_ID)))\n",
    "\n",
    "offline_online_sales_share = sales.ORDER_SOURCE_CATEGORY.value_counts(normalize=True) * 100\n",
    "\n",
    "print(\"Percentage of Sales from Website : %f\"  %offline_online_sales_share[\"Website\"])\n",
    "print(\"Percentage of Sales from CS Agents : %f \" %offline_online_sales_share[\"CS\"] )"
   ]
  },
  {
   "cell_type": "markdown",
   "metadata": {
    "slideshow": {
     "slide_type": "slide"
    }
   },
   "source": [
    "<strong>One-Sample T-Test (Measuring Satisfaction Level)</strong>\n",
    "\n",
    "A one-sample t-test checks whether a sample mean differs from the population mean\n",
    "\n",
    "<strong>Hypothesis Testing</strong>: Is there a significant difference in the means of sales amount between purchases made through CS and purchases made through website?\n",
    "\n",
    "- <strong>Null Hypothesis</strong>: (H0: pTS = pES) The null hypothesis would be that there is no difference in sale amount between purchases which are made through CS and website\n",
    "\n",
    "\n",
    "- <strong>Alternate Hypothesis</strong>: (HA: pTS != pES) The alternative hypothesis would be that there is a difference in in sale amount between purchases which are made through CS and website"
   ]
  },
  {
   "cell_type": "code",
   "execution_count": 86,
   "metadata": {
    "slideshow": {
     "slide_type": "fragment"
    }
   },
   "outputs": [
    {
     "name": "stdout",
     "output_type": "stream",
     "text": [
      "The mean sales price for the sales amount made from Website: 192.3950571393307\n",
      "The mean satisfaction for the sales amount made from CS: 351.87228928721413\n"
     ]
    }
   ],
   "source": [
    "sales_website_mean = sales['SALES'][sales['ORDER_SOURCE_CATEGORY'] == \"Website\"].mean()\n",
    "sales_cs_mean = sales['SALES'][sales['ORDER_SOURCE_CATEGORY'] == \"CS\"].mean()\n",
    "\n",
    "print( 'The mean sales price for the sales amount made from Website: ' + str(sales_website_mean))\n",
    "print( 'The mean satisfaction for the sales amount made from CS: ' + str(sales_cs_mean) )"
   ]
  },
  {
   "cell_type": "markdown",
   "metadata": {
    "slideshow": {
     "slide_type": "slide"
    }
   },
   "source": [
    "#### Conducting t-test at 95% confidence level"
   ]
  },
  {
   "cell_type": "code",
   "execution_count": 87,
   "metadata": {
    "slideshow": {
     "slide_type": "fragment"
    }
   },
   "outputs": [
    {
     "data": {
      "text/plain": [
       "Ttest_1sampResult(statistic=21.859104800486982, pvalue=6.697916338173568e-104)"
      ]
     },
     "execution_count": 87,
     "metadata": {},
     "output_type": "execute_result"
    }
   ],
   "source": [
    "import scipy.stats as stats\n",
    "stats.ttest_1samp(a=  sales[sales['ORDER_SOURCE_CATEGORY']==\"CS\"]['SALES'], # Sample of Employee satisfaction who had a Turnover\n",
    "                  popmean = sales_website_mean)  # Employee Who Had No Turnover satisfaction mean"
   ]
  },
  {
   "cell_type": "code",
   "execution_count": 88,
   "metadata": {
    "slideshow": {
     "slide_type": "slide"
    }
   },
   "outputs": [
    {
     "name": "stdout",
     "output_type": "stream",
     "text": [
      "The t-distribution left quartile range is: -1.96016177583262\n",
      "The t-distribution right quartile range is: 1.9601617758326195\n"
     ]
    }
   ],
   "source": [
    "degree_freedom = len(sales[sales['ORDER_SOURCE_CATEGORY']==\"CS\"])\n",
    "\n",
    "LQ = stats.t.ppf(0.025,degree_freedom)  # Left Quartile\n",
    "\n",
    "RQ = stats.t.ppf(0.975,degree_freedom)  # Right Quartile\n",
    "\n",
    "print ('The t-distribution left quartile range is: ' + str(LQ))\n",
    "print ('The t-distribution right quartile range is: ' + str(RQ))"
   ]
  },
  {
   "cell_type": "markdown",
   "metadata": {
    "slideshow": {
     "slide_type": "fragment"
    }
   },
   "source": [
    "\n",
    "<strong>T-Test Quantile</strong>\n",
    "\n",
    "t - statistic value we calculated is 21.86 is outside the quantiles, then we can reject the null hypothesis\n",
    "\n",
    "\n",
    "\n"
   ]
  },
  {
   "cell_type": "markdown",
   "metadata": {
    "slideshow": {
     "slide_type": "slide"
    }
   },
   "source": [
    "<strong>Reject the null hypothesis because:</strong>\n",
    "\n",
    "- T-Test score is outside the quantiles\n",
    "- P-value is lower than confidence level of 5%\n",
    "\n"
   ]
  },
  {
   "cell_type": "markdown",
   "metadata": {
    "slideshow": {
     "slide_type": "slide"
    }
   },
   "source": [
    "### Suggestion\n",
    "\n",
    "1. Predict high AOS customer and customize user experience to include Gear head expert in the user path immedietly\n",
    "2. High AOS add to cart customers can be pulled for purchase"
   ]
  },
  {
   "cell_type": "markdown",
   "metadata": {
    "slideshow": {
     "slide_type": "skip"
    }
   },
   "source": [
    "<strong>3.2 Average visits before conversion: Website vs CS</strong>"
   ]
  },
  {
   "cell_type": "code",
   "execution_count": 89,
   "metadata": {
    "scrolled": true,
    "slideshow": {
     "slide_type": "skip"
    }
   },
   "outputs": [],
   "source": [
    "n_purchase_source = visits_sales_df[[\"USER_ID\",\"VISITOR_ID\",\"ORDER_SOURCE_CATEGORY\", \"PURCHASE_ORDER_NUM\"]]\n",
    "n_purchase_source = n_purchase_source.fillna(\"NoConv\")"
   ]
  },
  {
   "cell_type": "code",
   "execution_count": 90,
   "metadata": {
    "scrolled": true,
    "slideshow": {
     "slide_type": "skip"
    }
   },
   "outputs": [],
   "source": [
    "purchase_before_visit = n_purchase_source.groupby([\"PURCHASE_ORDER_NUM\",\"ORDER_SOURCE_CATEGORY\",\"USER_ID\"]).count().reset_index()"
   ]
  },
  {
   "cell_type": "code",
   "execution_count": 91,
   "metadata": {
    "scrolled": true,
    "slideshow": {
     "slide_type": "skip"
    }
   },
   "outputs": [
    {
     "data": {
      "text/html": [
       "<div>\n",
       "<style scoped>\n",
       "    .dataframe tbody tr th:only-of-type {\n",
       "        vertical-align: middle;\n",
       "    }\n",
       "\n",
       "    .dataframe tbody tr th {\n",
       "        vertical-align: top;\n",
       "    }\n",
       "\n",
       "    .dataframe thead th {\n",
       "        text-align: right;\n",
       "    }\n",
       "</style>\n",
       "<table border=\"1\" class=\"dataframe\">\n",
       "  <thead>\n",
       "    <tr style=\"text-align: right;\">\n",
       "      <th></th>\n",
       "      <th>PURCHASE_ORDER_NUM</th>\n",
       "      <th>ORDER_SOURCE_CATEGORY</th>\n",
       "      <th>USER_ID</th>\n",
       "      <th>VISITOR_ID</th>\n",
       "    </tr>\n",
       "  </thead>\n",
       "  <tbody>\n",
       "    <tr>\n",
       "      <th>151471</th>\n",
       "      <td>2.0</td>\n",
       "      <td>CS</td>\n",
       "      <td>9456</td>\n",
       "      <td>14</td>\n",
       "    </tr>\n",
       "    <tr>\n",
       "      <th>151472</th>\n",
       "      <td>2.0</td>\n",
       "      <td>CS</td>\n",
       "      <td>27448</td>\n",
       "      <td>4</td>\n",
       "    </tr>\n",
       "    <tr>\n",
       "      <th>151473</th>\n",
       "      <td>2.0</td>\n",
       "      <td>CS</td>\n",
       "      <td>40770</td>\n",
       "      <td>87</td>\n",
       "    </tr>\n",
       "    <tr>\n",
       "      <th>151474</th>\n",
       "      <td>2.0</td>\n",
       "      <td>CS</td>\n",
       "      <td>57449</td>\n",
       "      <td>157</td>\n",
       "    </tr>\n",
       "    <tr>\n",
       "      <th>151475</th>\n",
       "      <td>2.0</td>\n",
       "      <td>CS</td>\n",
       "      <td>115090</td>\n",
       "      <td>29</td>\n",
       "    </tr>\n",
       "    <tr>\n",
       "      <th>151476</th>\n",
       "      <td>2.0</td>\n",
       "      <td>CS</td>\n",
       "      <td>115612</td>\n",
       "      <td>27</td>\n",
       "    </tr>\n",
       "    <tr>\n",
       "      <th>151477</th>\n",
       "      <td>2.0</td>\n",
       "      <td>CS</td>\n",
       "      <td>125576</td>\n",
       "      <td>126</td>\n",
       "    </tr>\n",
       "    <tr>\n",
       "      <th>151478</th>\n",
       "      <td>2.0</td>\n",
       "      <td>CS</td>\n",
       "      <td>141265</td>\n",
       "      <td>5</td>\n",
       "    </tr>\n",
       "    <tr>\n",
       "      <th>151479</th>\n",
       "      <td>2.0</td>\n",
       "      <td>CS</td>\n",
       "      <td>142552</td>\n",
       "      <td>50</td>\n",
       "    </tr>\n",
       "    <tr>\n",
       "      <th>151480</th>\n",
       "      <td>2.0</td>\n",
       "      <td>CS</td>\n",
       "      <td>147212</td>\n",
       "      <td>37</td>\n",
       "    </tr>\n",
       "    <tr>\n",
       "      <th>151481</th>\n",
       "      <td>2.0</td>\n",
       "      <td>CS</td>\n",
       "      <td>152037</td>\n",
       "      <td>328</td>\n",
       "    </tr>\n",
       "    <tr>\n",
       "      <th>151482</th>\n",
       "      <td>2.0</td>\n",
       "      <td>CS</td>\n",
       "      <td>164979</td>\n",
       "      <td>36</td>\n",
       "    </tr>\n",
       "    <tr>\n",
       "      <th>151483</th>\n",
       "      <td>2.0</td>\n",
       "      <td>CS</td>\n",
       "      <td>170941</td>\n",
       "      <td>2</td>\n",
       "    </tr>\n",
       "    <tr>\n",
       "      <th>151484</th>\n",
       "      <td>2.0</td>\n",
       "      <td>CS</td>\n",
       "      <td>202377</td>\n",
       "      <td>14</td>\n",
       "    </tr>\n",
       "    <tr>\n",
       "      <th>151485</th>\n",
       "      <td>2.0</td>\n",
       "      <td>CS</td>\n",
       "      <td>211693</td>\n",
       "      <td>15</td>\n",
       "    </tr>\n",
       "    <tr>\n",
       "      <th>151486</th>\n",
       "      <td>2.0</td>\n",
       "      <td>CS</td>\n",
       "      <td>222900</td>\n",
       "      <td>16</td>\n",
       "    </tr>\n",
       "    <tr>\n",
       "      <th>151487</th>\n",
       "      <td>2.0</td>\n",
       "      <td>CS</td>\n",
       "      <td>233722</td>\n",
       "      <td>6</td>\n",
       "    </tr>\n",
       "    <tr>\n",
       "      <th>151488</th>\n",
       "      <td>2.0</td>\n",
       "      <td>CS</td>\n",
       "      <td>246446</td>\n",
       "      <td>56</td>\n",
       "    </tr>\n",
       "    <tr>\n",
       "      <th>151489</th>\n",
       "      <td>2.0</td>\n",
       "      <td>CS</td>\n",
       "      <td>247838</td>\n",
       "      <td>22</td>\n",
       "    </tr>\n",
       "    <tr>\n",
       "      <th>151490</th>\n",
       "      <td>2.0</td>\n",
       "      <td>CS</td>\n",
       "      <td>248099</td>\n",
       "      <td>68</td>\n",
       "    </tr>\n",
       "    <tr>\n",
       "      <th>151491</th>\n",
       "      <td>2.0</td>\n",
       "      <td>CS</td>\n",
       "      <td>252863</td>\n",
       "      <td>28</td>\n",
       "    </tr>\n",
       "    <tr>\n",
       "      <th>151492</th>\n",
       "      <td>2.0</td>\n",
       "      <td>CS</td>\n",
       "      <td>258071</td>\n",
       "      <td>21</td>\n",
       "    </tr>\n",
       "    <tr>\n",
       "      <th>151493</th>\n",
       "      <td>2.0</td>\n",
       "      <td>CS</td>\n",
       "      <td>259976</td>\n",
       "      <td>27</td>\n",
       "    </tr>\n",
       "    <tr>\n",
       "      <th>151494</th>\n",
       "      <td>2.0</td>\n",
       "      <td>CS</td>\n",
       "      <td>270968</td>\n",
       "      <td>43</td>\n",
       "    </tr>\n",
       "    <tr>\n",
       "      <th>151495</th>\n",
       "      <td>2.0</td>\n",
       "      <td>CS</td>\n",
       "      <td>271120</td>\n",
       "      <td>138</td>\n",
       "    </tr>\n",
       "    <tr>\n",
       "      <th>151496</th>\n",
       "      <td>2.0</td>\n",
       "      <td>CS</td>\n",
       "      <td>273525</td>\n",
       "      <td>20</td>\n",
       "    </tr>\n",
       "    <tr>\n",
       "      <th>151497</th>\n",
       "      <td>2.0</td>\n",
       "      <td>CS</td>\n",
       "      <td>274088</td>\n",
       "      <td>55</td>\n",
       "    </tr>\n",
       "    <tr>\n",
       "      <th>151498</th>\n",
       "      <td>2.0</td>\n",
       "      <td>CS</td>\n",
       "      <td>280891</td>\n",
       "      <td>63</td>\n",
       "    </tr>\n",
       "    <tr>\n",
       "      <th>151499</th>\n",
       "      <td>2.0</td>\n",
       "      <td>CS</td>\n",
       "      <td>303444</td>\n",
       "      <td>564</td>\n",
       "    </tr>\n",
       "    <tr>\n",
       "      <th>151500</th>\n",
       "      <td>2.0</td>\n",
       "      <td>CS</td>\n",
       "      <td>308744</td>\n",
       "      <td>353</td>\n",
       "    </tr>\n",
       "    <tr>\n",
       "      <th>...</th>\n",
       "      <td>...</td>\n",
       "      <td>...</td>\n",
       "      <td>...</td>\n",
       "      <td>...</td>\n",
       "    </tr>\n",
       "    <tr>\n",
       "      <th>167306</th>\n",
       "      <td>2.0</td>\n",
       "      <td>Website</td>\n",
       "      <td>2104550591</td>\n",
       "      <td>26</td>\n",
       "    </tr>\n",
       "    <tr>\n",
       "      <th>167307</th>\n",
       "      <td>2.0</td>\n",
       "      <td>Website</td>\n",
       "      <td>2105980125</td>\n",
       "      <td>52</td>\n",
       "    </tr>\n",
       "    <tr>\n",
       "      <th>167308</th>\n",
       "      <td>2.0</td>\n",
       "      <td>Website</td>\n",
       "      <td>2106109762</td>\n",
       "      <td>189</td>\n",
       "    </tr>\n",
       "    <tr>\n",
       "      <th>167309</th>\n",
       "      <td>2.0</td>\n",
       "      <td>Website</td>\n",
       "      <td>2107503777</td>\n",
       "      <td>155</td>\n",
       "    </tr>\n",
       "    <tr>\n",
       "      <th>167310</th>\n",
       "      <td>2.0</td>\n",
       "      <td>Website</td>\n",
       "      <td>2109472719</td>\n",
       "      <td>220</td>\n",
       "    </tr>\n",
       "    <tr>\n",
       "      <th>167311</th>\n",
       "      <td>2.0</td>\n",
       "      <td>Website</td>\n",
       "      <td>2110151533</td>\n",
       "      <td>561</td>\n",
       "    </tr>\n",
       "    <tr>\n",
       "      <th>167312</th>\n",
       "      <td>2.0</td>\n",
       "      <td>Website</td>\n",
       "      <td>2110382854</td>\n",
       "      <td>108</td>\n",
       "    </tr>\n",
       "    <tr>\n",
       "      <th>167313</th>\n",
       "      <td>2.0</td>\n",
       "      <td>Website</td>\n",
       "      <td>2110703223</td>\n",
       "      <td>28</td>\n",
       "    </tr>\n",
       "    <tr>\n",
       "      <th>167314</th>\n",
       "      <td>2.0</td>\n",
       "      <td>Website</td>\n",
       "      <td>2110790655</td>\n",
       "      <td>27</td>\n",
       "    </tr>\n",
       "    <tr>\n",
       "      <th>167315</th>\n",
       "      <td>2.0</td>\n",
       "      <td>Website</td>\n",
       "      <td>2110800589</td>\n",
       "      <td>131</td>\n",
       "    </tr>\n",
       "    <tr>\n",
       "      <th>167316</th>\n",
       "      <td>2.0</td>\n",
       "      <td>Website</td>\n",
       "      <td>2110952177</td>\n",
       "      <td>5</td>\n",
       "    </tr>\n",
       "    <tr>\n",
       "      <th>167317</th>\n",
       "      <td>2.0</td>\n",
       "      <td>Website</td>\n",
       "      <td>2111622447</td>\n",
       "      <td>352</td>\n",
       "    </tr>\n",
       "    <tr>\n",
       "      <th>167318</th>\n",
       "      <td>2.0</td>\n",
       "      <td>Website</td>\n",
       "      <td>2111729264</td>\n",
       "      <td>52</td>\n",
       "    </tr>\n",
       "    <tr>\n",
       "      <th>167319</th>\n",
       "      <td>2.0</td>\n",
       "      <td>Website</td>\n",
       "      <td>2111740719</td>\n",
       "      <td>68</td>\n",
       "    </tr>\n",
       "    <tr>\n",
       "      <th>167320</th>\n",
       "      <td>2.0</td>\n",
       "      <td>Website</td>\n",
       "      <td>2112174844</td>\n",
       "      <td>8</td>\n",
       "    </tr>\n",
       "    <tr>\n",
       "      <th>167321</th>\n",
       "      <td>2.0</td>\n",
       "      <td>Website</td>\n",
       "      <td>2112895064</td>\n",
       "      <td>9</td>\n",
       "    </tr>\n",
       "    <tr>\n",
       "      <th>167322</th>\n",
       "      <td>2.0</td>\n",
       "      <td>Website</td>\n",
       "      <td>2113560307</td>\n",
       "      <td>246</td>\n",
       "    </tr>\n",
       "    <tr>\n",
       "      <th>167323</th>\n",
       "      <td>2.0</td>\n",
       "      <td>Website</td>\n",
       "      <td>2114531902</td>\n",
       "      <td>60</td>\n",
       "    </tr>\n",
       "    <tr>\n",
       "      <th>167324</th>\n",
       "      <td>2.0</td>\n",
       "      <td>Website</td>\n",
       "      <td>2115206467</td>\n",
       "      <td>458</td>\n",
       "    </tr>\n",
       "    <tr>\n",
       "      <th>167325</th>\n",
       "      <td>2.0</td>\n",
       "      <td>Website</td>\n",
       "      <td>2116036499</td>\n",
       "      <td>26</td>\n",
       "    </tr>\n",
       "    <tr>\n",
       "      <th>167326</th>\n",
       "      <td>2.0</td>\n",
       "      <td>Website</td>\n",
       "      <td>2116036971</td>\n",
       "      <td>258</td>\n",
       "    </tr>\n",
       "    <tr>\n",
       "      <th>167327</th>\n",
       "      <td>2.0</td>\n",
       "      <td>Website</td>\n",
       "      <td>2116987744</td>\n",
       "      <td>20</td>\n",
       "    </tr>\n",
       "    <tr>\n",
       "      <th>167328</th>\n",
       "      <td>2.0</td>\n",
       "      <td>Website</td>\n",
       "      <td>2117468850</td>\n",
       "      <td>42</td>\n",
       "    </tr>\n",
       "    <tr>\n",
       "      <th>167329</th>\n",
       "      <td>2.0</td>\n",
       "      <td>Website</td>\n",
       "      <td>2118826075</td>\n",
       "      <td>64</td>\n",
       "    </tr>\n",
       "    <tr>\n",
       "      <th>167330</th>\n",
       "      <td>2.0</td>\n",
       "      <td>Website</td>\n",
       "      <td>2119153803</td>\n",
       "      <td>352</td>\n",
       "    </tr>\n",
       "    <tr>\n",
       "      <th>167331</th>\n",
       "      <td>2.0</td>\n",
       "      <td>Website</td>\n",
       "      <td>2119788613</td>\n",
       "      <td>62</td>\n",
       "    </tr>\n",
       "    <tr>\n",
       "      <th>167332</th>\n",
       "      <td>2.0</td>\n",
       "      <td>Website</td>\n",
       "      <td>2120233186</td>\n",
       "      <td>6</td>\n",
       "    </tr>\n",
       "    <tr>\n",
       "      <th>167333</th>\n",
       "      <td>2.0</td>\n",
       "      <td>Website</td>\n",
       "      <td>2121259454</td>\n",
       "      <td>86</td>\n",
       "    </tr>\n",
       "    <tr>\n",
       "      <th>167334</th>\n",
       "      <td>2.0</td>\n",
       "      <td>Website</td>\n",
       "      <td>2122472843</td>\n",
       "      <td>4</td>\n",
       "    </tr>\n",
       "    <tr>\n",
       "      <th>167335</th>\n",
       "      <td>2.0</td>\n",
       "      <td>Website</td>\n",
       "      <td>2122495977</td>\n",
       "      <td>96</td>\n",
       "    </tr>\n",
       "  </tbody>\n",
       "</table>\n",
       "<p>15865 rows × 4 columns</p>\n",
       "</div>"
      ],
      "text/plain": [
       "        PURCHASE_ORDER_NUM ORDER_SOURCE_CATEGORY     USER_ID  VISITOR_ID\n",
       "151471                 2.0                    CS        9456          14\n",
       "151472                 2.0                    CS       27448           4\n",
       "151473                 2.0                    CS       40770          87\n",
       "151474                 2.0                    CS       57449         157\n",
       "151475                 2.0                    CS      115090          29\n",
       "151476                 2.0                    CS      115612          27\n",
       "151477                 2.0                    CS      125576         126\n",
       "151478                 2.0                    CS      141265           5\n",
       "151479                 2.0                    CS      142552          50\n",
       "151480                 2.0                    CS      147212          37\n",
       "151481                 2.0                    CS      152037         328\n",
       "151482                 2.0                    CS      164979          36\n",
       "151483                 2.0                    CS      170941           2\n",
       "151484                 2.0                    CS      202377          14\n",
       "151485                 2.0                    CS      211693          15\n",
       "151486                 2.0                    CS      222900          16\n",
       "151487                 2.0                    CS      233722           6\n",
       "151488                 2.0                    CS      246446          56\n",
       "151489                 2.0                    CS      247838          22\n",
       "151490                 2.0                    CS      248099          68\n",
       "151491                 2.0                    CS      252863          28\n",
       "151492                 2.0                    CS      258071          21\n",
       "151493                 2.0                    CS      259976          27\n",
       "151494                 2.0                    CS      270968          43\n",
       "151495                 2.0                    CS      271120         138\n",
       "151496                 2.0                    CS      273525          20\n",
       "151497                 2.0                    CS      274088          55\n",
       "151498                 2.0                    CS      280891          63\n",
       "151499                 2.0                    CS      303444         564\n",
       "151500                 2.0                    CS      308744         353\n",
       "...                    ...                   ...         ...         ...\n",
       "167306                 2.0               Website  2104550591          26\n",
       "167307                 2.0               Website  2105980125          52\n",
       "167308                 2.0               Website  2106109762         189\n",
       "167309                 2.0               Website  2107503777         155\n",
       "167310                 2.0               Website  2109472719         220\n",
       "167311                 2.0               Website  2110151533         561\n",
       "167312                 2.0               Website  2110382854         108\n",
       "167313                 2.0               Website  2110703223          28\n",
       "167314                 2.0               Website  2110790655          27\n",
       "167315                 2.0               Website  2110800589         131\n",
       "167316                 2.0               Website  2110952177           5\n",
       "167317                 2.0               Website  2111622447         352\n",
       "167318                 2.0               Website  2111729264          52\n",
       "167319                 2.0               Website  2111740719          68\n",
       "167320                 2.0               Website  2112174844           8\n",
       "167321                 2.0               Website  2112895064           9\n",
       "167322                 2.0               Website  2113560307         246\n",
       "167323                 2.0               Website  2114531902          60\n",
       "167324                 2.0               Website  2115206467         458\n",
       "167325                 2.0               Website  2116036499          26\n",
       "167326                 2.0               Website  2116036971         258\n",
       "167327                 2.0               Website  2116987744          20\n",
       "167328                 2.0               Website  2117468850          42\n",
       "167329                 2.0               Website  2118826075          64\n",
       "167330                 2.0               Website  2119153803         352\n",
       "167331                 2.0               Website  2119788613          62\n",
       "167332                 2.0               Website  2120233186           6\n",
       "167333                 2.0               Website  2121259454          86\n",
       "167334                 2.0               Website  2122472843           4\n",
       "167335                 2.0               Website  2122495977          96\n",
       "\n",
       "[15865 rows x 4 columns]"
      ]
     },
     "execution_count": 91,
     "metadata": {},
     "output_type": "execute_result"
    }
   ],
   "source": [
    "purchase_before_visit[purchase_before_visit.PURCHASE_ORDER_NUM == 2]"
   ]
  },
  {
   "cell_type": "code",
   "execution_count": 92,
   "metadata": {
    "scrolled": true,
    "slideshow": {
     "slide_type": "skip"
    }
   },
   "outputs": [
    {
     "name": "stdout",
     "output_type": "stream",
     "text": [
      "20.0\n",
      "14.0\n"
     ]
    }
   ],
   "source": [
    "print(purchase_before_visit[purchase_before_visit[\"ORDER_SOURCE_CATEGORY\"] == \"CS\"].VISITOR_ID.median())\n",
    "print(purchase_before_visit[purchase_before_visit[\"ORDER_SOURCE_CATEGORY\"] == \"Website\"].VISITOR_ID.median())"
   ]
  },
  {
   "cell_type": "code",
   "execution_count": 70,
   "metadata": {
    "scrolled": true,
    "slideshow": {
     "slide_type": "skip"
    }
   },
   "outputs": [
    {
     "data": {
      "text/plain": [
       "[(0, 0.005)]"
      ]
     },
     "execution_count": 70,
     "metadata": {},
     "output_type": "execute_result"
    },
    {
     "data": {
      "image/png": "[encoded data removed]",
      "text/plain": [
       "<matplotlib.figure.Figure at 0x1a72eb99b0>"
      ]
     },
     "metadata": {},
     "output_type": "display_data"
    }
   ],
   "source": [
    "p1 = sns.distplot(np.array(purchase_before_visit[purchase_before_visit[\"ORDER_SOURCE_CATEGORY\"] == \"CS\"][\"VISITOR_ID\"]))\n",
    "p1.set(xlim=(-200, 500))\n",
    "p1.set(ylim=(0, 0.005))"
   ]
  },
  {
   "cell_type": "code",
   "execution_count": 71,
   "metadata": {
    "slideshow": {
     "slide_type": "skip"
    }
   },
   "outputs": [
    {
     "data": {
      "text/plain": [
       "[(0, 0.001)]"
      ]
     },
     "execution_count": 71,
     "metadata": {},
     "output_type": "execute_result"
    },
    {
     "data": {
      "image/png": "[encoded data removed]",
      "text/plain": [
       "<matplotlib.figure.Figure at 0x1a72ddc898>"
      ]
     },
     "metadata": {},
     "output_type": "display_data"
    }
   ],
   "source": [
    "p1 = sns.distplot(np.array(purchase_before_visit[purchase_before_visit[\"ORDER_SOURCE_CATEGORY\"] == \"Website\"][\"VISITOR_ID\"]))\n",
    "p1.set(xlim=(-200, 500))\n",
    "p1.set(ylim=(0, 0.001))"
   ]
  },
  {
   "cell_type": "markdown",
   "metadata": {
    "slideshow": {
     "slide_type": "slide"
    }
   },
   "source": [
    "## Question - 4\n",
    "\n",
    "Are there combinations of channels that yield better sales results?"
   ]
  },
  {
   "cell_type": "code",
   "execution_count": 72,
   "metadata": {
    "slideshow": {
     "slide_type": "skip"
    }
   },
   "outputs": [],
   "source": [
    "##\n",
    "\n",
    "\n",
    "def channel_bigram(row):\n",
    "    if \">\" in row:\n",
    "        bigram_final = []\n",
    "        bigram_list = list(zip(row.split(\">\")[:-1], row.split(\">\")[1:]))\n",
    "        for bigram in bigram_list:\n",
    "            bigram = (bigram[0].strip(), bigram[1].strip())\n",
    "            bigram_final.append('#'.join(bigram))\n",
    "        result = \" > \".join(bigram_final)\n",
    "    else:\n",
    "        result = row\n",
    "    return result\n",
    "\n",
    "\n",
    "## deduping consecutive duplicates\n",
    "\n",
    "\n",
    "def channel_bigram_dedup(row):\n",
    "    path_list = row.split(\">\")\n",
    "    path_list = [channel.strip() for channel in path_list]\n",
    "    new_path = \" > \".join([x[0] for x in groupby(path_list)])\n",
    "    return channel_bigram(new_path)"
   ]
  },
  {
   "cell_type": "code",
   "execution_count": 73,
   "metadata": {
    "scrolled": true,
    "slideshow": {
     "slide_type": "skip"
    }
   },
   "outputs": [],
   "source": [
    "##\n",
    "\n",
    "\n",
    "user_path_df[\"CHANNEL_NAME_BIGRAM\"] = user_path_df[\"CHANNEL_NAME\"].apply(channel_bigram)\n",
    "user_path_df[\"CHANNEL_NAME_BIGRAM_DEDUP\"] = user_path_df[\"CHANNEL_NAME\"].apply(channel_bigram_dedup)"
   ]
  },
  {
   "cell_type": "code",
   "execution_count": 74,
   "metadata": {
    "slideshow": {
     "slide_type": "skip"
    }
   },
   "outputs": [],
   "source": [
    "##\n",
    "\n",
    "user_path_df.to_csv(\"data/user_path_df_final.csv\")"
   ]
  },
  {
   "cell_type": "code",
   "execution_count": 75,
   "metadata": {
    "scrolled": true,
    "slideshow": {
     "slide_type": "skip"
    }
   },
   "outputs": [],
   "source": [
    "markov_chain_results_df = pd.read_csv(\"data/markov_chain_result_dedup.csv\", index_col=0).sort_values(by = \"total_conversions\", ascending = 0)"
   ]
  },
  {
   "cell_type": "code",
   "execution_count": 76,
   "metadata": {
    "slideshow": {
     "slide_type": "skip"
    }
   },
   "outputs": [],
   "source": [
    "markov_channel_combination = markov_chain_results_df.set_index(\"channel_name\")"
   ]
  },
  {
   "cell_type": "code",
   "execution_count": null,
   "metadata": {
    "slideshow": {
     "slide_type": "skip"
    }
   },
   "outputs": [],
   "source": [
    "fig = plt.figure(figsize=(10, 3), dpi=100)\n",
    "\n",
    "width = 0.9\n",
    "markov_channel_combination.total_conversions[:20].plot(kind='bar', color='green', width=width, position=0)\n",
    "\n",
    "ax.set_ylabel('Conversions')\n",
    "plt.savefig(\"images/markov_chain_results_combination.png\")\n",
    "plt.show()"
   ]
  },
  {
   "cell_type": "code",
   "execution_count": 93,
   "metadata": {
    "slideshow": {
     "slide_type": "slide"
    }
   },
   "outputs": [
    {
     "data": {
      "text/html": [
       "<iframe id=\"igraph\" scrolling=\"no\" style=\"border:none;\" seamless=\"seamless\" src=\"https://plot.ly/~jonamjar/4.embed\" height=\"525px\" width=\"100%\"></iframe>"
      ],
      "text/plain": [
       "<plotly.tools.PlotlyDisplay object>"
      ]
     },
     "execution_count": 93,
     "metadata": {},
     "output_type": "execute_result"
    }
   ],
   "source": [
    "data = [go.Bar(\n",
    "            x= list(markov_channel_combination.head(20).index),\n",
    "            y = list(markov_channel_combination.head(20).total_conversions)\n",
    "    )]\n",
    "\n",
    "py.iplot(data, filename='basic-bar')"
   ]
  },
  {
   "cell_type": "code",
   "execution_count": 54,
   "metadata": {
    "scrolled": true,
    "slideshow": {
     "slide_type": "subslide"
    }
   },
   "outputs": [
    {
     "data": {
      "text/html": [
       "<div>\n",
       "<table border=\"1\" class=\"dataframe\">\n",
       "  <thead>\n",
       "    <tr style=\"text-align: right;\">\n",
       "      <th></th>\n",
       "      <th>total_conversions</th>\n",
       "    </tr>\n",
       "    <tr>\n",
       "      <th>channel_name</th>\n",
       "      <th></th>\n",
       "    </tr>\n",
       "  </thead>\n",
       "  <tbody>\n",
       "    <tr>\n",
       "      <th>pla#organic</th>\n",
       "      <td>4084.754730</td>\n",
       "    </tr>\n",
       "    <tr>\n",
       "      <th>organic#pla</th>\n",
       "      <td>4003.404167</td>\n",
       "    </tr>\n",
       "    <tr>\n",
       "      <th>organic#direct</th>\n",
       "      <td>3546.923566</td>\n",
       "    </tr>\n",
       "    <tr>\n",
       "      <th>direct#organic</th>\n",
       "      <td>3242.895969</td>\n",
       "    </tr>\n",
       "    <tr>\n",
       "      <th>email#direct</th>\n",
       "      <td>3166.327863</td>\n",
       "    </tr>\n",
       "    <tr>\n",
       "      <th>direct</th>\n",
       "      <td>3076.388399</td>\n",
       "    </tr>\n",
       "    <tr>\n",
       "      <th>direct#email</th>\n",
       "      <td>3048.816073</td>\n",
       "    </tr>\n",
       "    <tr>\n",
       "      <th>organic#email</th>\n",
       "      <td>3032.614281</td>\n",
       "    </tr>\n",
       "    <tr>\n",
       "      <th>email#organic</th>\n",
       "      <td>3004.261146</td>\n",
       "    </tr>\n",
       "    <tr>\n",
       "      <th>pla#direct</th>\n",
       "      <td>2817.794139</td>\n",
       "    </tr>\n",
       "  </tbody>\n",
       "</table>\n",
       "</div>"
      ],
      "text/plain": [
       "                total_conversions\n",
       "channel_name                     \n",
       "pla#organic           4084.754730\n",
       "organic#pla           4003.404167\n",
       "organic#direct        3546.923566\n",
       "direct#organic        3242.895969\n",
       "email#direct          3166.327863\n",
       "direct                3076.388399\n",
       "direct#email          3048.816073\n",
       "organic#email         3032.614281\n",
       "email#organic         3004.261146\n",
       "pla#direct            2817.794139"
      ]
     },
     "execution_count": 54,
     "metadata": {},
     "output_type": "execute_result"
    }
   ],
   "source": [
    "markov_channel_combination.head(10)"
   ]
  },
  {
   "cell_type": "markdown",
   "metadata": {
    "slideshow": {
     "slide_type": "slide"
    }
   },
   "source": [
    "# Question - 5 & 6\n",
    "\n",
    "Given that some channels are considered high cost channels, how might this impact how one might invest resources in each channel?\n",
    "\n",
    "What other data might you use if available?\n",
    "\n"
   ]
  },
  {
   "cell_type": "markdown",
   "metadata": {
    "slideshow": {
     "slide_type": "slide"
    }
   },
   "source": [
    "<strong>High cost channels:</strong>\n",
    "\n",
    "- Allocate resources proportional to the attribution models and Cost Per Acqusition\n",
    "- Taking into consideration future prospects of the channel\n",
    "\n",
    "\n",
    "<strong>Other Data Sources:</strong>\n",
    "\n",
    "- Advertising Spend \n",
    "- Search Data\n",
    "- Products Purchased"
   ]
  },
  {
   "cell_type": "markdown",
   "metadata": {
    "slideshow": {
     "slide_type": "slide"
    }
   },
   "source": [
    "# Question - 7\n",
    "\n",
    "How might you recommend shifting resources for high cost channels (e.g. geography or time of day)? \n",
    "\n",
    "-  location based targerting"
   ]
  },
  {
   "cell_type": "markdown",
   "metadata": {
    "slideshow": {
     "slide_type": "slide"
    }
   },
   "source": [
    "### Web Scraping\n",
    "\n",
    "https://www.niche.com/"
   ]
  },
  {
   "cell_type": "code",
   "execution_count": 55,
   "metadata": {
    "slideshow": {
     "slide_type": "subslide"
    }
   },
   "outputs": [
    {
     "data": {
      "image/png": "[encoded data removed]",
      "text/plain": [
       "<IPython.core.display.Image object>"
      ]
     },
     "execution_count": 55,
     "metadata": {},
     "output_type": "execute_result"
    }
   ],
   "source": [
    "Image(filename=\"images/niche.png\")"
   ]
  },
  {
   "cell_type": "code",
   "execution_count": 56,
   "metadata": {
    "collapsed": true,
    "scrolled": true,
    "slideshow": {
     "slide_type": "skip"
    }
   },
   "outputs": [],
   "source": [
    "##\n",
    "\n",
    "\n",
    "orders_based_city_ranks = pd.DataFrame(customer_profile.STANDARD_CITY.value_counts()).reset_index()\n",
    "orders_based_city_ranks = orders_based_city_ranks.rename(columns = {\"index\":\"city\",\"STANDARD_CITY\":\"total_orders\"})\n",
    "orders_based_city_ranks =  orders_based_city_ranks.sort_values(by = \"total_orders\", ascending = False)"
   ]
  },
  {
   "cell_type": "code",
   "execution_count": 58,
   "metadata": {
    "scrolled": true,
    "slideshow": {
     "slide_type": "skip"
    }
   },
   "outputs": [],
   "source": [
    "##\n",
    "\n",
    "\n",
    "top_outdoor_dest = pd.read_csv(\"data/top_outdoor_activity_location.csv\", index_col=0)"
   ]
  },
  {
   "cell_type": "code",
   "execution_count": 69,
   "metadata": {
    "scrolled": true,
    "slideshow": {
     "slide_type": "slide"
    }
   },
   "outputs": [
    {
     "name": "stdout",
     "output_type": "stream",
     "text": [
      "Empty DataFrame\n",
      "Columns: [city, total_orders]\n",
      "Index: []\n",
      "         city  total_orders\n",
      "0    New York          4555\n",
      "825  New York            68\n"
     ]
    }
   ],
   "source": [
    "print(orders_based_city_ranks[orders_based_city_ranks[\"city\"] == \"New York City\"])\n",
    "\n",
    "print(orders_based_city_ranks[orders_based_city_ranks[\"city\"] == \"New York\"])"
   ]
  },
  {
   "cell_type": "code",
   "execution_count": 83,
   "metadata": {
    "scrolled": true
   },
   "outputs": [],
   "source": [
    "orders_based_city_ranks.set_value(825, 'city', \"New York\")\n",
    "orders_based_city_ranks = orders_based_city_ranks.groupby(\"city\").sum()\n",
    "orders_based_city_ranks = orders_based_city_ranks.reset_index().sort_values(by = \"total_orders\", ascending = False)"
   ]
  },
  {
   "cell_type": "code",
   "execution_count": 84,
   "metadata": {
    "collapsed": true,
    "scrolled": true,
    "slideshow": {
     "slide_type": "skip"
    }
   },
   "outputs": [],
   "source": [
    "##\n",
    "\n",
    "\n",
    "df = pd.merge(orders_based_city_ranks, top_outdoor_dest, on = \"city\", how = \"inner\")\n",
    "df[\"total_orders_normalized\"] = (df[\"total_orders\"]-df[\"total_orders\"].min())/(df[\"total_orders\"].max()-df[\"total_orders\"].min())\n",
    "df = df.sort_values(by = \"total_orders_normalized\", ascending=False)\n",
    "df[\"rank_by_order\"] = df.reset_index().rename(columns = {\"index\":\"rank_by_order\"})[\"rank_by_order\"] + 1\n",
    "df[\"rank_diff\"] = df[\"rank_by_order\"] - df[\"rank\"]\n",
    "df = df.sort_values(by = \"rank_diff\")\n",
    "top_bottom_10 = pd.concat([df.head(10), df.tail(10)])"
   ]
  },
  {
   "cell_type": "code",
   "execution_count": 87,
   "metadata": {
    "slideshow": {
     "slide_type": "slide"
    }
   },
   "outputs": [
    {
     "data": {
      "image/png": "[encoded data removed]",
      "text/plain": [
       "<matplotlib.figure.Figure at 0x1342d7240>"
      ]
     },
     "metadata": {},
     "output_type": "display_data"
    }
   ],
   "source": [
    "## Plotting opportunity graph\n",
    "\n",
    "\n",
    "sns.set_style(\"whitegrid\")\n",
    "fig, ax = plt.subplots()\n",
    "fig.set_size_inches(20, 8.27)\n",
    "ax = sns.barplot(x=\"city\", y=\"rank_diff\", data=top_bottom_10)\n",
    "plt.savefig(\"images/opportunity_graph.png\")"
   ]
  },
  {
   "cell_type": "code",
   "execution_count": 85,
   "metadata": {
    "scrolled": true,
    "slideshow": {
     "slide_type": "slide"
    }
   },
   "outputs": [
    {
     "data": {
      "text/html": [
       "<div>\n",
       "<table border=\"1\" class=\"dataframe\">\n",
       "  <thead>\n",
       "    <tr style=\"text-align: right;\">\n",
       "      <th></th>\n",
       "      <th>city</th>\n",
       "      <th>total_orders</th>\n",
       "      <th>rank</th>\n",
       "      <th>state</th>\n",
       "      <th>total_orders_normalized</th>\n",
       "      <th>rank_by_order</th>\n",
       "      <th>rank_diff</th>\n",
       "    </tr>\n",
       "  </thead>\n",
       "  <tbody>\n",
       "    <tr>\n",
       "      <th>18</th>\n",
       "      <td>Arlington</td>\n",
       "      <td>1031</td>\n",
       "      <td>206</td>\n",
       "      <td>Texas</td>\n",
       "      <td>0.232264</td>\n",
       "      <td>19</td>\n",
       "      <td>-187</td>\n",
       "    </tr>\n",
       "    <tr>\n",
       "      <th>32</th>\n",
       "      <td>Columbus</td>\n",
       "      <td>780</td>\n",
       "      <td>203</td>\n",
       "      <td>Georgia</td>\n",
       "      <td>0.175554</td>\n",
       "      <td>33</td>\n",
       "      <td>-170</td>\n",
       "    </tr>\n",
       "    <tr>\n",
       "      <th>53</th>\n",
       "      <td>Springfield</td>\n",
       "      <td>566</td>\n",
       "      <td>217</td>\n",
       "      <td>Illinois</td>\n",
       "      <td>0.127203</td>\n",
       "      <td>54</td>\n",
       "      <td>-163</td>\n",
       "    </tr>\n",
       "    <tr>\n",
       "      <th>35</th>\n",
       "      <td>Anchorage</td>\n",
       "      <td>713</td>\n",
       "      <td>196</td>\n",
       "      <td>Alaska</td>\n",
       "      <td>0.160416</td>\n",
       "      <td>36</td>\n",
       "      <td>-160</td>\n",
       "    </tr>\n",
       "    <tr>\n",
       "      <th>30</th>\n",
       "      <td>Jackson</td>\n",
       "      <td>798</td>\n",
       "      <td>190</td>\n",
       "      <td>Mississippi</td>\n",
       "      <td>0.179620</td>\n",
       "      <td>31</td>\n",
       "      <td>-159</td>\n",
       "    </tr>\n",
       "    <tr>\n",
       "      <th>47</th>\n",
       "      <td>San Antonio</td>\n",
       "      <td>608</td>\n",
       "      <td>204</td>\n",
       "      <td>Texas</td>\n",
       "      <td>0.136692</td>\n",
       "      <td>48</td>\n",
       "      <td>-156</td>\n",
       "    </tr>\n",
       "    <tr>\n",
       "      <th>9</th>\n",
       "      <td>Houston</td>\n",
       "      <td>1815</td>\n",
       "      <td>156</td>\n",
       "      <td>Texas</td>\n",
       "      <td>0.409399</td>\n",
       "      <td>10</td>\n",
       "      <td>-146</td>\n",
       "    </tr>\n",
       "    <tr>\n",
       "      <th>82</th>\n",
       "      <td>Fort Worth</td>\n",
       "      <td>372</td>\n",
       "      <td>224</td>\n",
       "      <td>Texas</td>\n",
       "      <td>0.083371</td>\n",
       "      <td>83</td>\n",
       "      <td>-141</td>\n",
       "    </tr>\n",
       "    <tr>\n",
       "      <th>68</th>\n",
       "      <td>Birmingham</td>\n",
       "      <td>451</td>\n",
       "      <td>208</td>\n",
       "      <td>Alabama</td>\n",
       "      <td>0.101220</td>\n",
       "      <td>69</td>\n",
       "      <td>-139</td>\n",
       "    </tr>\n",
       "    <tr>\n",
       "      <th>13</th>\n",
       "      <td>Dallas</td>\n",
       "      <td>1212</td>\n",
       "      <td>147</td>\n",
       "      <td>Texas</td>\n",
       "      <td>0.273159</td>\n",
       "      <td>14</td>\n",
       "      <td>-133</td>\n",
       "    </tr>\n",
       "    <tr>\n",
       "      <th>25</th>\n",
       "      <td>Las Vegas</td>\n",
       "      <td>906</td>\n",
       "      <td>151</td>\n",
       "      <td>Nevada</td>\n",
       "      <td>0.204022</td>\n",
       "      <td>26</td>\n",
       "      <td>-125</td>\n",
       "    </tr>\n",
       "    <tr>\n",
       "      <th>49</th>\n",
       "      <td>Lexington</td>\n",
       "      <td>575</td>\n",
       "      <td>174</td>\n",
       "      <td>Kentucky</td>\n",
       "      <td>0.129236</td>\n",
       "      <td>50</td>\n",
       "      <td>-124</td>\n",
       "    </tr>\n",
       "    <tr>\n",
       "      <th>26</th>\n",
       "      <td>Phoenix</td>\n",
       "      <td>901</td>\n",
       "      <td>149</td>\n",
       "      <td>Arizona</td>\n",
       "      <td>0.202892</td>\n",
       "      <td>27</td>\n",
       "      <td>-122</td>\n",
       "    </tr>\n",
       "    <tr>\n",
       "      <th>59</th>\n",
       "      <td>Columbia</td>\n",
       "      <td>539</td>\n",
       "      <td>180</td>\n",
       "      <td>South Carolina</td>\n",
       "      <td>0.121103</td>\n",
       "      <td>59</td>\n",
       "      <td>-121</td>\n",
       "    </tr>\n",
       "    <tr>\n",
       "      <th>101</th>\n",
       "      <td>El Paso</td>\n",
       "      <td>294</td>\n",
       "      <td>222</td>\n",
       "      <td>Texas</td>\n",
       "      <td>0.065748</td>\n",
       "      <td>102</td>\n",
       "      <td>-120</td>\n",
       "    </tr>\n",
       "    <tr>\n",
       "      <th>88</th>\n",
       "      <td>Kansas City</td>\n",
       "      <td>349</td>\n",
       "      <td>209</td>\n",
       "      <td>Kansas</td>\n",
       "      <td>0.078174</td>\n",
       "      <td>89</td>\n",
       "      <td>-120</td>\n",
       "    </tr>\n",
       "    <tr>\n",
       "      <th>16</th>\n",
       "      <td>Charlotte</td>\n",
       "      <td>1095</td>\n",
       "      <td>136</td>\n",
       "      <td>North Carolina</td>\n",
       "      <td>0.246724</td>\n",
       "      <td>17</td>\n",
       "      <td>-119</td>\n",
       "    </tr>\n",
       "    <tr>\n",
       "      <th>15</th>\n",
       "      <td>Colorado Springs</td>\n",
       "      <td>1128</td>\n",
       "      <td>133</td>\n",
       "      <td>Colorado</td>\n",
       "      <td>0.254180</td>\n",
       "      <td>16</td>\n",
       "      <td>-117</td>\n",
       "    </tr>\n",
       "    <tr>\n",
       "      <th>55</th>\n",
       "      <td>Lafayette</td>\n",
       "      <td>543</td>\n",
       "      <td>171</td>\n",
       "      <td>Louisiana</td>\n",
       "      <td>0.122006</td>\n",
       "      <td>56</td>\n",
       "      <td>-115</td>\n",
       "    </tr>\n",
       "    <tr>\n",
       "      <th>100</th>\n",
       "      <td>Oklahoma City</td>\n",
       "      <td>298</td>\n",
       "      <td>214</td>\n",
       "      <td>Oklahoma</td>\n",
       "      <td>0.066652</td>\n",
       "      <td>100</td>\n",
       "      <td>-114</td>\n",
       "    </tr>\n",
       "    <tr>\n",
       "      <th>10</th>\n",
       "      <td>Austin</td>\n",
       "      <td>1752</td>\n",
       "      <td>125</td>\n",
       "      <td>Texas</td>\n",
       "      <td>0.395165</td>\n",
       "      <td>11</td>\n",
       "      <td>-114</td>\n",
       "    </tr>\n",
       "    <tr>\n",
       "      <th>72</th>\n",
       "      <td>Jacksonville</td>\n",
       "      <td>401</td>\n",
       "      <td>185</td>\n",
       "      <td>Florida</td>\n",
       "      <td>0.089923</td>\n",
       "      <td>73</td>\n",
       "      <td>-112</td>\n",
       "    </tr>\n",
       "    <tr>\n",
       "      <th>56</th>\n",
       "      <td>Scottsdale</td>\n",
       "      <td>541</td>\n",
       "      <td>168</td>\n",
       "      <td>Arizona</td>\n",
       "      <td>0.121554</td>\n",
       "      <td>57</td>\n",
       "      <td>-111</td>\n",
       "    </tr>\n",
       "    <tr>\n",
       "      <th>66</th>\n",
       "      <td>Knoxville</td>\n",
       "      <td>470</td>\n",
       "      <td>178</td>\n",
       "      <td>Tennessee</td>\n",
       "      <td>0.105513</td>\n",
       "      <td>67</td>\n",
       "      <td>-111</td>\n",
       "    </tr>\n",
       "    <tr>\n",
       "      <th>73</th>\n",
       "      <td>Fayetteville</td>\n",
       "      <td>399</td>\n",
       "      <td>179</td>\n",
       "      <td>North Carolina</td>\n",
       "      <td>0.089471</td>\n",
       "      <td>74</td>\n",
       "      <td>-105</td>\n",
       "    </tr>\n",
       "    <tr>\n",
       "      <th>42</th>\n",
       "      <td>Louisville</td>\n",
       "      <td>667</td>\n",
       "      <td>148</td>\n",
       "      <td>Kentucky</td>\n",
       "      <td>0.150023</td>\n",
       "      <td>43</td>\n",
       "      <td>-105</td>\n",
       "    </tr>\n",
       "    <tr>\n",
       "      <th>102</th>\n",
       "      <td>New Orleans</td>\n",
       "      <td>290</td>\n",
       "      <td>199</td>\n",
       "      <td>Louisiana</td>\n",
       "      <td>0.064844</td>\n",
       "      <td>103</td>\n",
       "      <td>-96</td>\n",
       "    </tr>\n",
       "    <tr>\n",
       "      <th>62</th>\n",
       "      <td>Indianapolis</td>\n",
       "      <td>523</td>\n",
       "      <td>157</td>\n",
       "      <td>Indiana</td>\n",
       "      <td>0.117488</td>\n",
       "      <td>63</td>\n",
       "      <td>-94</td>\n",
       "    </tr>\n",
       "    <tr>\n",
       "      <th>41</th>\n",
       "      <td>Raleigh</td>\n",
       "      <td>673</td>\n",
       "      <td>135</td>\n",
       "      <td>North Carolina</td>\n",
       "      <td>0.151378</td>\n",
       "      <td>42</td>\n",
       "      <td>-93</td>\n",
       "    </tr>\n",
       "    <tr>\n",
       "      <th>11</th>\n",
       "      <td>Atlanta</td>\n",
       "      <td>1246</td>\n",
       "      <td>104</td>\n",
       "      <td>Georgia</td>\n",
       "      <td>0.280840</td>\n",
       "      <td>12</td>\n",
       "      <td>-92</td>\n",
       "    </tr>\n",
       "    <tr>\n",
       "      <th>...</th>\n",
       "      <td>...</td>\n",
       "      <td>...</td>\n",
       "      <td>...</td>\n",
       "      <td>...</td>\n",
       "      <td>...</td>\n",
       "      <td>...</td>\n",
       "      <td>...</td>\n",
       "    </tr>\n",
       "    <tr>\n",
       "      <th>163</th>\n",
       "      <td>Corona</td>\n",
       "      <td>121</td>\n",
       "      <td>66</td>\n",
       "      <td>California</td>\n",
       "      <td>0.026661</td>\n",
       "      <td>164</td>\n",
       "      <td>98</td>\n",
       "    </tr>\n",
       "    <tr>\n",
       "      <th>152</th>\n",
       "      <td>Worcester</td>\n",
       "      <td>138</td>\n",
       "      <td>46</td>\n",
       "      <td>Massachusetts</td>\n",
       "      <td>0.030502</td>\n",
       "      <td>153</td>\n",
       "      <td>107</td>\n",
       "    </tr>\n",
       "    <tr>\n",
       "      <th>220</th>\n",
       "      <td>Sandy Springs</td>\n",
       "      <td>28</td>\n",
       "      <td>113</td>\n",
       "      <td>Georgia</td>\n",
       "      <td>0.005648</td>\n",
       "      <td>221</td>\n",
       "      <td>108</td>\n",
       "    </tr>\n",
       "    <tr>\n",
       "      <th>219</th>\n",
       "      <td>Victorville</td>\n",
       "      <td>31</td>\n",
       "      <td>111</td>\n",
       "      <td>California</td>\n",
       "      <td>0.006326</td>\n",
       "      <td>220</td>\n",
       "      <td>109</td>\n",
       "    </tr>\n",
       "    <tr>\n",
       "      <th>183</th>\n",
       "      <td>Stockton</td>\n",
       "      <td>83</td>\n",
       "      <td>76</td>\n",
       "      <td>California</td>\n",
       "      <td>0.018075</td>\n",
       "      <td>185</td>\n",
       "      <td>109</td>\n",
       "    </tr>\n",
       "    <tr>\n",
       "      <th>135</th>\n",
       "      <td>Orange</td>\n",
       "      <td>180</td>\n",
       "      <td>26</td>\n",
       "      <td>California</td>\n",
       "      <td>0.039991</td>\n",
       "      <td>136</td>\n",
       "      <td>110</td>\n",
       "    </tr>\n",
       "    <tr>\n",
       "      <th>164</th>\n",
       "      <td>Temecula</td>\n",
       "      <td>117</td>\n",
       "      <td>55</td>\n",
       "      <td>California</td>\n",
       "      <td>0.025757</td>\n",
       "      <td>165</td>\n",
       "      <td>110</td>\n",
       "    </tr>\n",
       "    <tr>\n",
       "      <th>213</th>\n",
       "      <td>St. Petersburg</td>\n",
       "      <td>47</td>\n",
       "      <td>103</td>\n",
       "      <td>Florida</td>\n",
       "      <td>0.009941</td>\n",
       "      <td>214</td>\n",
       "      <td>111</td>\n",
       "    </tr>\n",
       "    <tr>\n",
       "      <th>126</th>\n",
       "      <td>Torrance</td>\n",
       "      <td>201</td>\n",
       "      <td>16</td>\n",
       "      <td>California</td>\n",
       "      <td>0.044736</td>\n",
       "      <td>127</td>\n",
       "      <td>111</td>\n",
       "    </tr>\n",
       "    <tr>\n",
       "      <th>193</th>\n",
       "      <td>St. Paul</td>\n",
       "      <td>73</td>\n",
       "      <td>80</td>\n",
       "      <td>Minnesota</td>\n",
       "      <td>0.015816</td>\n",
       "      <td>194</td>\n",
       "      <td>114</td>\n",
       "    </tr>\n",
       "    <tr>\n",
       "      <th>227</th>\n",
       "      <td>Port St. Lucie</td>\n",
       "      <td>3</td>\n",
       "      <td>112</td>\n",
       "      <td>Florida</td>\n",
       "      <td>0.000000</td>\n",
       "      <td>228</td>\n",
       "      <td>116</td>\n",
       "    </tr>\n",
       "    <tr>\n",
       "      <th>131</th>\n",
       "      <td>Costa Mesa</td>\n",
       "      <td>189</td>\n",
       "      <td>15</td>\n",
       "      <td>California</td>\n",
       "      <td>0.042024</td>\n",
       "      <td>132</td>\n",
       "      <td>117</td>\n",
       "    </tr>\n",
       "    <tr>\n",
       "      <th>217</th>\n",
       "      <td>Pompano Beach</td>\n",
       "      <td>38</td>\n",
       "      <td>98</td>\n",
       "      <td>Florida</td>\n",
       "      <td>0.007908</td>\n",
       "      <td>218</td>\n",
       "      <td>120</td>\n",
       "    </tr>\n",
       "    <tr>\n",
       "      <th>142</th>\n",
       "      <td>Santa Ana</td>\n",
       "      <td>159</td>\n",
       "      <td>19</td>\n",
       "      <td>California</td>\n",
       "      <td>0.035246</td>\n",
       "      <td>142</td>\n",
       "      <td>123</td>\n",
       "    </tr>\n",
       "    <tr>\n",
       "      <th>195</th>\n",
       "      <td>Clearwater</td>\n",
       "      <td>72</td>\n",
       "      <td>71</td>\n",
       "      <td>Florida</td>\n",
       "      <td>0.015590</td>\n",
       "      <td>196</td>\n",
       "      <td>125</td>\n",
       "    </tr>\n",
       "    <tr>\n",
       "      <th>151</th>\n",
       "      <td>Burbank</td>\n",
       "      <td>139</td>\n",
       "      <td>27</td>\n",
       "      <td>California</td>\n",
       "      <td>0.030728</td>\n",
       "      <td>152</td>\n",
       "      <td>125</td>\n",
       "    </tr>\n",
       "    <tr>\n",
       "      <th>154</th>\n",
       "      <td>Anaheim</td>\n",
       "      <td>135</td>\n",
       "      <td>25</td>\n",
       "      <td>California</td>\n",
       "      <td>0.029824</td>\n",
       "      <td>155</td>\n",
       "      <td>130</td>\n",
       "    </tr>\n",
       "    <tr>\n",
       "      <th>153</th>\n",
       "      <td>Thousand Oaks</td>\n",
       "      <td>138</td>\n",
       "      <td>21</td>\n",
       "      <td>California</td>\n",
       "      <td>0.030502</td>\n",
       "      <td>154</td>\n",
       "      <td>133</td>\n",
       "    </tr>\n",
       "    <tr>\n",
       "      <th>144</th>\n",
       "      <td>Kent</td>\n",
       "      <td>156</td>\n",
       "      <td>8</td>\n",
       "      <td>Washington</td>\n",
       "      <td>0.034568</td>\n",
       "      <td>145</td>\n",
       "      <td>137</td>\n",
       "    </tr>\n",
       "    <tr>\n",
       "      <th>197</th>\n",
       "      <td>Elgin</td>\n",
       "      <td>70</td>\n",
       "      <td>58</td>\n",
       "      <td>Illinois</td>\n",
       "      <td>0.015138</td>\n",
       "      <td>198</td>\n",
       "      <td>140</td>\n",
       "    </tr>\n",
       "    <tr>\n",
       "      <th>223</th>\n",
       "      <td>San Bernardino</td>\n",
       "      <td>23</td>\n",
       "      <td>84</td>\n",
       "      <td>California</td>\n",
       "      <td>0.004519</td>\n",
       "      <td>224</td>\n",
       "      <td>140</td>\n",
       "    </tr>\n",
       "    <tr>\n",
       "      <th>211</th>\n",
       "      <td>Ontario</td>\n",
       "      <td>48</td>\n",
       "      <td>69</td>\n",
       "      <td>California</td>\n",
       "      <td>0.010167</td>\n",
       "      <td>212</td>\n",
       "      <td>143</td>\n",
       "    </tr>\n",
       "    <tr>\n",
       "      <th>196</th>\n",
       "      <td>Santa Maria</td>\n",
       "      <td>70</td>\n",
       "      <td>54</td>\n",
       "      <td>California</td>\n",
       "      <td>0.015138</td>\n",
       "      <td>197</td>\n",
       "      <td>143</td>\n",
       "    </tr>\n",
       "    <tr>\n",
       "      <th>168</th>\n",
       "      <td>Salinas</td>\n",
       "      <td>111</td>\n",
       "      <td>24</td>\n",
       "      <td>California</td>\n",
       "      <td>0.024401</td>\n",
       "      <td>169</td>\n",
       "      <td>145</td>\n",
       "    </tr>\n",
       "    <tr>\n",
       "      <th>207</th>\n",
       "      <td>Bridgeport</td>\n",
       "      <td>53</td>\n",
       "      <td>61</td>\n",
       "      <td>Connecticut</td>\n",
       "      <td>0.011297</td>\n",
       "      <td>208</td>\n",
       "      <td>147</td>\n",
       "    </tr>\n",
       "    <tr>\n",
       "      <th>216</th>\n",
       "      <td>Cape Coral</td>\n",
       "      <td>40</td>\n",
       "      <td>67</td>\n",
       "      <td>Florida</td>\n",
       "      <td>0.008360</td>\n",
       "      <td>217</td>\n",
       "      <td>150</td>\n",
       "    </tr>\n",
       "    <tr>\n",
       "      <th>206</th>\n",
       "      <td>Hartford</td>\n",
       "      <td>55</td>\n",
       "      <td>51</td>\n",
       "      <td>Connecticut</td>\n",
       "      <td>0.011749</td>\n",
       "      <td>207</td>\n",
       "      <td>156</td>\n",
       "    </tr>\n",
       "    <tr>\n",
       "      <th>173</th>\n",
       "      <td>Hayward</td>\n",
       "      <td>99</td>\n",
       "      <td>17</td>\n",
       "      <td>California</td>\n",
       "      <td>0.021690</td>\n",
       "      <td>174</td>\n",
       "      <td>157</td>\n",
       "    </tr>\n",
       "    <tr>\n",
       "      <th>200</th>\n",
       "      <td>Vallejo</td>\n",
       "      <td>61</td>\n",
       "      <td>34</td>\n",
       "      <td>California</td>\n",
       "      <td>0.013104</td>\n",
       "      <td>201</td>\n",
       "      <td>167</td>\n",
       "    </tr>\n",
       "    <tr>\n",
       "      <th>177</th>\n",
       "      <td>Oxnard</td>\n",
       "      <td>91</td>\n",
       "      <td>10</td>\n",
       "      <td>California</td>\n",
       "      <td>0.019883</td>\n",
       "      <td>178</td>\n",
       "      <td>168</td>\n",
       "    </tr>\n",
       "  </tbody>\n",
       "</table>\n",
       "<p>228 rows × 7 columns</p>\n",
       "</div>"
      ],
      "text/plain": [
       "                 city  total_orders  rank           state  \\\n",
       "18          Arlington          1031   206           Texas   \n",
       "32           Columbus           780   203         Georgia   \n",
       "53        Springfield           566   217        Illinois   \n",
       "35          Anchorage           713   196          Alaska   \n",
       "30            Jackson           798   190     Mississippi   \n",
       "47        San Antonio           608   204           Texas   \n",
       "9             Houston          1815   156           Texas   \n",
       "82         Fort Worth           372   224           Texas   \n",
       "68         Birmingham           451   208         Alabama   \n",
       "13             Dallas          1212   147           Texas   \n",
       "25          Las Vegas           906   151          Nevada   \n",
       "49          Lexington           575   174        Kentucky   \n",
       "26            Phoenix           901   149         Arizona   \n",
       "59           Columbia           539   180  South Carolina   \n",
       "101           El Paso           294   222           Texas   \n",
       "88        Kansas City           349   209          Kansas   \n",
       "16          Charlotte          1095   136  North Carolina   \n",
       "15   Colorado Springs          1128   133        Colorado   \n",
       "55          Lafayette           543   171       Louisiana   \n",
       "100     Oklahoma City           298   214        Oklahoma   \n",
       "10             Austin          1752   125           Texas   \n",
       "72       Jacksonville           401   185         Florida   \n",
       "56         Scottsdale           541   168         Arizona   \n",
       "66          Knoxville           470   178       Tennessee   \n",
       "73       Fayetteville           399   179  North Carolina   \n",
       "42         Louisville           667   148        Kentucky   \n",
       "102       New Orleans           290   199       Louisiana   \n",
       "62       Indianapolis           523   157         Indiana   \n",
       "41            Raleigh           673   135  North Carolina   \n",
       "11            Atlanta          1246   104         Georgia   \n",
       "..                ...           ...   ...             ...   \n",
       "163            Corona           121    66      California   \n",
       "152         Worcester           138    46   Massachusetts   \n",
       "220     Sandy Springs            28   113         Georgia   \n",
       "219       Victorville            31   111      California   \n",
       "183          Stockton            83    76      California   \n",
       "135            Orange           180    26      California   \n",
       "164          Temecula           117    55      California   \n",
       "213    St. Petersburg            47   103         Florida   \n",
       "126          Torrance           201    16      California   \n",
       "193          St. Paul            73    80       Minnesota   \n",
       "227    Port St. Lucie             3   112         Florida   \n",
       "131        Costa Mesa           189    15      California   \n",
       "217     Pompano Beach            38    98         Florida   \n",
       "142         Santa Ana           159    19      California   \n",
       "195        Clearwater            72    71         Florida   \n",
       "151           Burbank           139    27      California   \n",
       "154           Anaheim           135    25      California   \n",
       "153     Thousand Oaks           138    21      California   \n",
       "144              Kent           156     8      Washington   \n",
       "197             Elgin            70    58        Illinois   \n",
       "223    San Bernardino            23    84      California   \n",
       "211           Ontario            48    69      California   \n",
       "196       Santa Maria            70    54      California   \n",
       "168           Salinas           111    24      California   \n",
       "207        Bridgeport            53    61     Connecticut   \n",
       "216        Cape Coral            40    67         Florida   \n",
       "206          Hartford            55    51     Connecticut   \n",
       "173           Hayward            99    17      California   \n",
       "200           Vallejo            61    34      California   \n",
       "177            Oxnard            91    10      California   \n",
       "\n",
       "     total_orders_normalized  rank_by_order  rank_diff  \n",
       "18                  0.232264             19       -187  \n",
       "32                  0.175554             33       -170  \n",
       "53                  0.127203             54       -163  \n",
       "35                  0.160416             36       -160  \n",
       "30                  0.179620             31       -159  \n",
       "47                  0.136692             48       -156  \n",
       "9                   0.409399             10       -146  \n",
       "82                  0.083371             83       -141  \n",
       "68                  0.101220             69       -139  \n",
       "13                  0.273159             14       -133  \n",
       "25                  0.204022             26       -125  \n",
       "49                  0.129236             50       -124  \n",
       "26                  0.202892             27       -122  \n",
       "59                  0.121103             59       -121  \n",
       "101                 0.065748            102       -120  \n",
       "88                  0.078174             89       -120  \n",
       "16                  0.246724             17       -119  \n",
       "15                  0.254180             16       -117  \n",
       "55                  0.122006             56       -115  \n",
       "100                 0.066652            100       -114  \n",
       "10                  0.395165             11       -114  \n",
       "72                  0.089923             73       -112  \n",
       "56                  0.121554             57       -111  \n",
       "66                  0.105513             67       -111  \n",
       "73                  0.089471             74       -105  \n",
       "42                  0.150023             43       -105  \n",
       "102                 0.064844            103        -96  \n",
       "62                  0.117488             63        -94  \n",
       "41                  0.151378             42        -93  \n",
       "11                  0.280840             12        -92  \n",
       "..                       ...            ...        ...  \n",
       "163                 0.026661            164         98  \n",
       "152                 0.030502            153        107  \n",
       "220                 0.005648            221        108  \n",
       "219                 0.006326            220        109  \n",
       "183                 0.018075            185        109  \n",
       "135                 0.039991            136        110  \n",
       "164                 0.025757            165        110  \n",
       "213                 0.009941            214        111  \n",
       "126                 0.044736            127        111  \n",
       "193                 0.015816            194        114  \n",
       "227                 0.000000            228        116  \n",
       "131                 0.042024            132        117  \n",
       "217                 0.007908            218        120  \n",
       "142                 0.035246            142        123  \n",
       "195                 0.015590            196        125  \n",
       "151                 0.030728            152        125  \n",
       "154                 0.029824            155        130  \n",
       "153                 0.030502            154        133  \n",
       "144                 0.034568            145        137  \n",
       "197                 0.015138            198        140  \n",
       "223                 0.004519            224        140  \n",
       "211                 0.010167            212        143  \n",
       "196                 0.015138            197        143  \n",
       "168                 0.024401            169        145  \n",
       "207                 0.011297            208        147  \n",
       "216                 0.008360            217        150  \n",
       "206                 0.011749            207        156  \n",
       "173                 0.021690            174        157  \n",
       "200                 0.013104            201        167  \n",
       "177                 0.019883            178        168  \n",
       "\n",
       "[228 rows x 7 columns]"
      ]
     },
     "execution_count": 85,
     "metadata": {},
     "output_type": "execute_result"
    }
   ],
   "source": [
    "df"
   ]
  },
  {
   "cell_type": "markdown",
   "metadata": {
    "slideshow": {
     "slide_type": "slide"
    }
   },
   "source": [
    "<strong>What else?</strong>\n",
    "\n",
    "- Can change this analysis into more glanular: zipcode level targeting\n",
    "- Using internal search data & external search data, regional specific product advertisting can be carried out\n",
    "- Create customer profile based on type of products they purchase and target accordingly "
   ]
  },
  {
   "cell_type": "markdown",
   "metadata": {
    "slideshow": {
     "slide_type": "slide"
    }
   },
   "source": [
    "References:\n",
    "\n",
    "https://cran.r-project.org/web/packages/ChannelAttribution/ChannelAttribution.pdf<br>\n",
    "https://papers.ssrn.com/sol3/papers.cfm?abstract_id=2685167\n",
    "\n",
    "- Mapping the Customer Journey: Lessons Learned from Graph-Based Online Attribution Modeling by Eva Anderl, Ingo Becker, Florian von Wangenheim, Jan Hendrik Schumann"
   ]
  },
  {
   "cell_type": "code",
   "execution_count": 91,
   "metadata": {
    "slideshow": {
     "slide_type": "slide"
    }
   },
   "outputs": [
    {
     "data": {
      "text/html": [
       "<img src=\"https://www.carlocab.com/wp-content/uploads/2007/11/halloween.jpg\"/>"
      ],
      "text/plain": [
       "<IPython.core.display.Image object>"
      ]
     },
     "execution_count": 91,
     "metadata": {},
     "output_type": "execute_result"
    }
   ],
   "source": [
    "Image(url=\"https://www.carlocab.com/wp-content/uploads/2007/11/halloween.jpg\")"
   ]
  },
  {
   "cell_type": "markdown",
   "metadata": {
    "slideshow": {
     "slide_type": "skip"
    }
   },
   "source": [
    " jupyter nbconvert data-wrangling.ipynb --to slides --post serve"
   ]
  },
  {
   "cell_type": "markdown",
   "metadata": {
    "slideshow": {
     "slide_type": "slide"
    }
   },
   "source": [
    "Github : https://github.com/jonamjar/bc-project"
   ]
  }
 ],
 "metadata": {
  "celltoolbar": "Slideshow",
  "extensions": {
   "jupyter_dashboards": {
    "activeView": "grid_default",
    "version": 1,
    "views": {
     "grid_default": {
      "cellMargin": 10,
      "defaultCellHeight": 20,
      "maxColumns": 12,
      "name": "grid",
      "type": "grid"
     },
     "report_default": {
      "name": "report",
      "type": "report"
     }
    }
   }
  },
  "kernelspec": {
   "display_name": "Python 3",
   "language": "python",
   "name": "python3"
  },
  "language_info": {
   "codemirror_mode": {
    "name": "ipython",
    "version": 3
   },
   "file_extension": ".py",
   "mimetype": "text/x-python",
   "name": "python",
   "nbconvert_exporter": "python",
   "pygments_lexer": "ipython3",
   "version": "3.7.2"
  }
 },
 "nbformat": 4,
 "nbformat_minor": 2
}
