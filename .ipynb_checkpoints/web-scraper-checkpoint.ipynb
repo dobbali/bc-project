{
 "cells": [
  {
   "cell_type": "code",
   "execution_count": 10,
   "metadata": {
    "collapsed": true
   },
   "outputs": [],
   "source": [
    "from bs4 import BeautifulSoup\n",
    "import pandas as pd\n",
    "import requests\n",
    "from random import randint"
   ]
  },
  {
   "cell_type": "code",
   "execution_count": 2,
   "metadata": {
    "collapsed": true
   },
   "outputs": [],
   "source": [
    "target_url = \"https://www.niche.com/places-to-live/search/best-outdoors-cities/\""
   ]
  },
  {
   "cell_type": "code",
   "execution_count": 28,
   "metadata": {},
   "outputs": [],
   "source": [
    "class UrlCheck():\n",
    "    \"\"\"\n",
    "    Takes list of urls and gives if the url is returning any results or not\n",
    "\n",
    "    Attributes\n",
    "    ----------\n",
    "    report_type : list\n",
    "        list with urls\n",
    "    \"\"\"\n",
    "\n",
    "    def __init__(self):\n",
    "\n",
    "        self.USER_AGENT = 'User-agent'\n",
    "        self.ACCEPT = 'Accept'\n",
    "        self.ACCEPT_ENCODING = 'Accept-Encoding'\n",
    "        self.ACCEPT_LANGUAGE = 'Accept-language'\n",
    "        self.CONNECTION = 'Connection'\n",
    "\n",
    "        self.CONNECTION_DEFAULT = \"keep-alive\"\n",
    "        self.ACCEPT_ENCODING_DEFAULT = \"utf-8\"\n",
    "        self.ACCEPT_LANGUAGE_DEFAULT = 'en-us,en;q=0.5'\n",
    "\n",
    "        self.USER_AGENT_MAC_FIREFOX = \"Mozilla/5.0 (Macintosh; Intel Mac OS X 10_10; rv:33.0) Gecko/20100101 Firefox/45.0.2\"\n",
    "\n",
    "        self.HEADER_FIREFOX_MAC = {self.USER_AGENT: self.USER_AGENT_MAC_FIREFOX,\n",
    "            self.ACCEPT: \"text/html,application/xhtml+xml,application/xml;q=0.9,*/*;q=0.8\",\n",
    "                self.ACCEPT_ENCODING: self.ACCEPT_ENCODING_DEFAULT,\n",
    "                   self.ACCEPT_LANGUAGE: self.ACCEPT_LANGUAGE_DEFAULT,\n",
    "                        self.CONNECTION: self.CONNECTION_DEFAULT}\n",
    "\n",
    "        self.HEADER_CHROME_WINDOWS = {self.USER_AGENT: \"Mozilla/5.0 (Windows NT 6.1) AppleWebKit/537.36 (KHTML, like Gecko) Chrome/41.0.2228.0 Safari/537.36\",\n",
    "            self.ACCEPT: \"application/xml,application/xhtml+xml,text/html;q=0.9,text/plain;q=0.8,image/png,*/*;q=0.5\",\n",
    "                self.ACCEPT_ENCODING: self.ACCEPT_ENCODING_DEFAULT,\n",
    "                    self.ACCEPT_LANGUAGE: self.ACCEPT_LANGUAGE_DEFAULT,\n",
    "                        self.CONNECTION: self.CONNECTION_DEFAULT}\n",
    "\n",
    "        self.USER_HEADERS = [self.HEADER_FIREFOX_MAC, self.HEADER_CHROME_WINDOWS]\n",
    "        #self.path = path\n",
    "\n",
    "\n",
    "    def map_results(self, result_dict, main_df):\n",
    "        main_df['Results'] = main_df['FinalURL'].map(result_dict)\n",
    "        return main_df\n",
    "\n",
    "    def run(self, url_list):\n",
    "        \"\"\"\n",
    "        Multi processing/Multi threading is carried out\n",
    "\n",
    "        \"\"\"\n",
    "\n",
    "        start = time.ctime()\n",
    "        print(start)\n",
    "        pT = ThreadPool(128)\n",
    "        results = pT.map_async(self.get_request, url_list)\n",
    "        pT.close()\n",
    "        pT.join()\n",
    "\n",
    "        all_req = []\n",
    "        for i in results.get():\n",
    "            all_req.append(i)\n",
    "\n",
    "        pP = Pool(10)\n",
    "        results = pP.map_async(self.get_count, all_req)\n",
    "        pP.close()\n",
    "        pP.join()\n",
    "\n",
    "        counts = []\n",
    "        for i in results.get():\n",
    "            counts.append(i)\n",
    "\n",
    "        result_df = pd.DataFrame({\"FinalURL\":url_list,\"Results\":counts})\n",
    "        result_dict = dict(zip(result_df.FinalURL, result_df.Results))\n",
    "        end = time.ctime()\n",
    "        print(end)\n",
    "        return  result_dict\n",
    "\n",
    "\n",
    "    # Random User-Agent string\n",
    "    def get_random_header(self):\n",
    "        return self.USER_HEADERS[randint(0,(len(self.USER_HEADERS)-1))]\n",
    "\n",
    "    # Opener with random header settings\n",
    "    def get_random_opener(self):\n",
    "        opener = urllib.request.build_opener()\n",
    "        randomHeader = self.get_random_header()\n",
    "        opener.addheaders = [(self.USER_AGENT,randomHeader[self.USER_AGENT]),\n",
    "                             (self.ACCEPT,randomHeader[self.ACCEPT])\n",
    "                             ,(self.ACCEPT_ENCODING,randomHeader[self.ACCEPT_ENCODING])\n",
    "                             , (self.ACCEPT_LANGUAGE, randomHeader[self.ACCEPT_LANGUAGE])\n",
    "                             ,(self.CONNECTION,randomHeader[self.CONNECTION])\n",
    "                             ]\n",
    "        return opener\n",
    "\n",
    "    def get_request(self, url):\n",
    "        try:\n",
    "            resp= requests.get(url, self.get_random_header())\n",
    "        except Exception as e:\n",
    "            print(e)\n",
    "            resp = \"failed\"\n",
    "        return resp\n",
    "\n",
    "    def get_count(self, resp):\n",
    "\n",
    "\n",
    "        # time.sleep(random.uniform(delay_min, delay_max))\n",
    "        cities = []\n",
    "        states = []\n",
    "        try:\n",
    "            if resp.status_code == 404:\n",
    "                count = 0\n",
    "                return count\n",
    "            soup = BeautifulSoup(resp.text, 'lxml')\n",
    "            for val,  in zip(soup.findAll(\"h2\"), soup.findAll(\"li\", { \"class\" : \"search-result-tagline__item\" })): \n",
    "                cities.append(val.text)\n",
    "                states.append(states.text)\n",
    "\n",
    "        except Exception as e:\n",
    "            print(e)\n",
    "            print(resp)\n",
    "            count = \"re check\"\n",
    "        return  (cities, states)"
   ]
  },
  {
   "cell_type": "markdown",
   "metadata": {},
   "source": [
    "#### Build URLs"
   ]
  },
  {
   "cell_type": "code",
   "execution_count": 33,
   "metadata": {
    "collapsed": true
   },
   "outputs": [],
   "source": [
    "uc = UrlCheck()"
   ]
  },
  {
   "cell_type": "code",
   "execution_count": 31,
   "metadata": {},
   "outputs": [],
   "source": [
    "all_target_urls = []\n",
    "for page_num in range(1, 11):\n",
    "    new_url = \"https://www.niche.com/places-to-live/search/best-outdoors-cities/\" + \"?page=\"+str(page_num)\n",
    "    all_target_urls.append(new_url)"
   ]
  },
  {
   "cell_type": "code",
   "execution_count": 44,
   "metadata": {},
   "outputs": [],
   "source": [
    "cities_list_html = []\n",
    "states_list_html = []\n",
    "for url in all_target_urls:\n",
    "    resp = uc.get_request(target_url)\n",
    "    soup = BeautifulSoup(resp.text, 'lxml')\n",
    "    cities_list_html.append(soup.findAll(\"h2\"))\n",
    "    states_list_html.append(soup.findAll(\"li\", { \"class\" : \"search-result-tagline__item\" }))"
   ]
  },
  {
   "cell_type": "code",
   "execution_count": 63,
   "metadata": {},
   "outputs": [],
   "source": [
    "cities = [city.text for cities_list in cities_list_html for city in cities_list]\n",
    "states = [state.text for states_list in states_list_html for state in states_list]\n",
    "\n",
    "regex = re.compile(r'[a-zA-Z].+')\n",
    "states = list(filter(regex.search, states))\n",
    "\n",
    "top_outdoor_activities = pd.DataFrame.from_dict({'city':cities,  'state':states}).reset_index().rename(columns = {\"index\":\"rank\"})\n",
    "top_outdoor_activities[\"rank\"] = top_outdoor_activities[\"rank\"] + 1\n",
    "\n",
    "top_outdoor_activities[\"state\"] = top_outdoor_activities.state.str.replace(\"City in \",\"\")"
   ]
  },
  {
   "cell_type": "code",
   "execution_count": 122,
   "metadata": {
    "collapsed": true
   },
   "outputs": [],
   "source": [
    "top_outdoor_activities.to_csv(\"top_outdoor_activity_location.csv\")"
   ]
  }
 ],
 "metadata": {
  "kernelspec": {
   "display_name": "Python [Root]",
   "language": "python",
   "name": "Python [Root]"
  },
  "language_info": {
   "codemirror_mode": {
    "name": "ipython",
    "version": 3
   },
   "file_extension": ".py",
   "mimetype": "text/x-python",
   "name": "python",
   "nbconvert_exporter": "python",
   "pygments_lexer": "ipython3",
   "version": "3.5.2"
  }
 },
 "nbformat": 4,
 "nbformat_minor": 2
}
